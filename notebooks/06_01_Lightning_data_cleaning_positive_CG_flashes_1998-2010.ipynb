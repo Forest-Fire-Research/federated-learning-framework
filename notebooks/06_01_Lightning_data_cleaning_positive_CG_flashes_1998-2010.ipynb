{
 "cells": [
  {
   "cell_type": "markdown",
   "id": "63087f62",
   "metadata": {},
   "source": [
    "# Import block"
   ]
  },
  {
   "cell_type": "code",
   "execution_count": 1,
   "id": "992d13b8",
   "metadata": {},
   "outputs": [
    {
     "name": "stdout",
     "output_type": "stream",
     "text": [
      "/bin/bash: /media/mutakabbir/HDD_2TB_02/Forest_Fire/.venv/bin/pip: /media/mutakabbir/HDD_2TB_01/Forest_Fire/.venv/bin/python: bad interpreter: No such file or directory\n"
     ]
    }
   ],
   "source": [
    "! pip install geopandas pandas sqlalchemy psycopg2-binary openpyxl geoalchemy2 python-dotenv tqdm"
   ]
  },
  {
   "cell_type": "code",
   "execution_count": 2,
   "id": "5f137780",
   "metadata": {},
   "outputs": [],
   "source": [
    "import pandas as pd\n",
    "import geopandas as gpd\n",
    "from sqlalchemy import create_engine\n",
    "\n",
    "import os\n",
    "from tqdm import tqdm \n",
    "from dotenv import load_dotenv"
   ]
  },
  {
   "cell_type": "markdown",
   "id": "baace29c",
   "metadata": {},
   "source": [
    "# Preprocess Lighting Data"
   ]
  },
  {
   "cell_type": "markdown",
   "id": "5e3d9c83",
   "metadata": {},
   "source": [
    "## Constants"
   ]
  },
  {
   "cell_type": "code",
   "execution_count": 3,
   "id": "69325d37",
   "metadata": {},
   "outputs": [],
   "source": [
    "PREPROCESSED_POSITIVE_FLASHES_1998_2010 = \"../../data/lighting/porcessed_lightning_csv/1998-2010-positive-cg-flashes.csv\"\n",
    "PATH_TO_DOT_ENV = \"../.env\"\n",
    "\n",
    "LIGHTNING_COLUMNS = [\"year\",\"month\",\"day\",\"hour\",\"minute\",\"second\",\"lat\",\"long\",\"event_strength_kiloamperes\",\"multiplicity\",\"cloud_or_ground\",\"na\"]\n",
    "LIGHTNING_DATE_COLUMNS = ['year', 'month', 'day', 'hour', 'minute', 'second']\n",
    "\n",
    "START_YEAR = 1998\n",
    "END_YEAR = 2010\n",
    "\n",
    "DATABASE_TYPE = \"postgresql\"\n",
    "DATABASE_HOST = \"localhost\"\n",
    "\n",
    "CANADIAN_BOUNDARY_TABLE_NAME = \"C\"\n",
    "LIGHTNING_TABLE_NAME = \"L\""
   ]
  },
  {
   "cell_type": "code",
   "execution_count": 4,
   "id": "d8c71ba2",
   "metadata": {},
   "outputs": [],
   "source": [
    "load_dotenv(PATH_TO_DOT_ENV)\n",
    "\n",
    "DATABASE_NAME = os.environ.get(\"DATABASE_NAME\")\n",
    "POSTGRES_USER = os.environ.get(\"POSTGRES_USER\")\n",
    "POSTGRES_PASSWORD = os.environ.get(\"POSTGRES_PASSWORD\")\n",
    "POSTGRES_HOST_PORT = os.environ.get(\"POSTGRES_HOST_PORT\")\n",
    "POSTGRES_CONTAINER_PORT = os.environ.get(\"POSTGRES_CONTAINER_PORT\")"
   ]
  },
  {
   "cell_type": "code",
   "execution_count": 5,
   "id": "d9e49b38",
   "metadata": {},
   "outputs": [],
   "source": [
    "engine = create_engine(f\"{DATABASE_TYPE}://{POSTGRES_USER}:{POSTGRES_PASSWORD}@{DATABASE_HOST}:{POSTGRES_HOST_PORT}/{DATABASE_NAME}\")"
   ]
  },
  {
   "cell_type": "markdown",
   "id": "c8e51b99",
   "metadata": {},
   "source": [
    "## Helper Functions"
   ]
  },
  {
   "cell_type": "code",
   "execution_count": 6,
   "id": "e3a5d77a",
   "metadata": {},
   "outputs": [],
   "source": [
    "def dataset_location (year:int): \n",
    "    year_str = str(year)\n",
    "    return f\"../../data/lighting/1998-2010-raw/Canada_ltng_Jan-Dec_{year_str}.txt\"\n"
   ]
  },
  {
   "cell_type": "markdown",
   "id": "89d3cd90",
   "metadata": {},
   "source": [
    "## Load Canadian geometry for filtering"
   ]
  },
  {
   "cell_type": "code",
   "execution_count": 7,
   "id": "d0d534f0",
   "metadata": {},
   "outputs": [],
   "source": [
    "query_canada_boundary = f\"\"\"SELECT * from \"{CANADIAN_BOUNDARY_TABLE_NAME}\" \"\"\"\n",
    "\n",
    "canada_gdf = gpd.read_postgis(\n",
    "    sql=query_canada_boundary, \n",
    "    con=engine, \n",
    "    geom_col=\"geometry\", \n",
    "    crs=\"EPSG:4326\"\n",
    ")"
   ]
  },
  {
   "cell_type": "markdown",
   "id": "530fb762",
   "metadata": {},
   "source": [
    "## Filtering and merging lightining data"
   ]
  },
  {
   "cell_type": "code",
   "execution_count": 8,
   "id": "c02a0873",
   "metadata": {
    "scrolled": false
   },
   "outputs": [
    {
     "name": "stderr",
     "output_type": "stream",
     "text": [
      "Lightning: 100%|██████████| 13/13 [29:08<00:00, 134.50s/it, 2010]\n"
     ]
    },
    {
     "name": "stdout",
     "output_type": "stream",
     "text": [
      "Finished building positive lighting flashes geo data!!!\n"
     ]
    }
   ],
   "source": [
    "lighting_dfs = []\n",
    "\n",
    "lightning_progress_bar = tqdm(\n",
    "    range(START_YEAR, END_YEAR + 1),\n",
    "    desc = \"Lightning\"\n",
    ")\n",
    "\n",
    "for year in lightning_progress_bar:\n",
    "    try:\n",
    "        # get file path \n",
    "        yearly_data_file_path = dataset_location(year)\n",
    "        \n",
    "        # read data\n",
    "        yearly_lighting_df = pd.read_csv(\n",
    "            yearly_data_file_path, \n",
    "            sep=\" \", \n",
    "            header=None, \n",
    "            names=LIGHTNING_COLUMNS\n",
    "        )\n",
    "        \n",
    "        # conver to timestamp\n",
    "        yearly_lighting_df['timestamp'] = pd.to_datetime(yearly_lighting_df[LIGHTNING_DATE_COLUMNS])\n",
    "        yearly_lighting_df.drop(\n",
    "            columns=LIGHTNING_DATE_COLUMNS+['na'],\n",
    "            inplace=True\n",
    "        )\n",
    "\n",
    "        # encode lightning type\n",
    "        yearly_lighting_df['cloud_or_ground'] = yearly_lighting_df['cloud_or_ground'].apply(lambda row: 'G' if row == 1 else 'C')\n",
    "\n",
    "        # remove negative lightning and cloud-to-cloud lightning\n",
    "        filtered_lightning_df = yearly_lighting_df[(yearly_lighting_df['event_strength_kiloamperes'] >= 0) & (yearly_lighting_df['cloud_or_ground'] == 'G')]\n",
    "        \n",
    "        if len(filtered_lightning_df) > 0:\n",
    "            # convert to geopandas\n",
    "            filtered_lighting_gdf = gpd.GeoDataFrame(\n",
    "                filtered_lightning_df[['event_strength_kiloamperes','multiplicity','timestamp']],\n",
    "                crs=\"EPSG:4326\",\n",
    "                geometry=gpd.points_from_xy(filtered_lightning_df.long, filtered_lightning_df.lat)\n",
    "            )\n",
    "            \n",
    "            # filter to only canada\n",
    "            canadian_lightning_gdf = filtered_lighting_gdf.clip(canada_gdf)\n",
    "\n",
    "            # add data to list to list\n",
    "            lighting_dfs.append(canadian_lightning_gdf)\n",
    "\n",
    "            del filtered_lighting_gdf\n",
    "            del canadian_lightning_gdf\n",
    "        else:\n",
    "            # No data found\n",
    "            continue\n",
    "        \n",
    "        del yearly_lighting_df\n",
    "        del filtered_lightning_df\n",
    "\n",
    "    except Exception as e:\n",
    "        print(f\"Error on data for YEAR: {year}: {e}\")\n",
    "    \n",
    "    lightning_progress_bar.set_postfix_str(f\"{year}\")\n",
    "    \n",
    "positive_flashes_gpd = pd.concat(lighting_dfs)\n",
    "positive_flashes_gpd.reset_index(\n",
    "    drop=True, \n",
    "    inplace=True\n",
    ")\n",
    "\n",
    "del lighting_dfs\n",
    "\n",
    "print(f\"Finished building positive lighting flashes geo data!!!\")"
   ]
  },
  {
   "cell_type": "code",
   "execution_count": 9,
   "id": "d1970f5c",
   "metadata": {},
   "outputs": [
    {
     "data": {
      "text/html": [
       "<div>\n",
       "<style scoped>\n",
       "    .dataframe tbody tr th:only-of-type {\n",
       "        vertical-align: middle;\n",
       "    }\n",
       "\n",
       "    .dataframe tbody tr th {\n",
       "        vertical-align: top;\n",
       "    }\n",
       "\n",
       "    .dataframe thead th {\n",
       "        text-align: right;\n",
       "    }\n",
       "</style>\n",
       "<table border=\"1\" class=\"dataframe\">\n",
       "  <thead>\n",
       "    <tr style=\"text-align: right;\">\n",
       "      <th></th>\n",
       "      <th>event_strength_kiloamperes</th>\n",
       "      <th>multiplicity</th>\n",
       "      <th>timestamp</th>\n",
       "      <th>geometry</th>\n",
       "    </tr>\n",
       "  </thead>\n",
       "  <tbody>\n",
       "    <tr>\n",
       "      <th>0</th>\n",
       "      <td>204.3</td>\n",
       "      <td>2</td>\n",
       "      <td>1999-12-04 04:17:18.131325233</td>\n",
       "      <td>POINT (-82.16530 42.22310)</td>\n",
       "    </tr>\n",
       "    <tr>\n",
       "      <th>1</th>\n",
       "      <td>50.4</td>\n",
       "      <td>1</td>\n",
       "      <td>1999-04-22 07:52:12.552416300</td>\n",
       "      <td>POINT (-82.15990 42.22470)</td>\n",
       "    </tr>\n",
       "    <tr>\n",
       "      <th>2</th>\n",
       "      <td>55.0</td>\n",
       "      <td>1</td>\n",
       "      <td>1999-05-31 11:12:06.365744700</td>\n",
       "      <td>POINT (-82.16500 42.22820)</td>\n",
       "    </tr>\n",
       "    <tr>\n",
       "      <th>3</th>\n",
       "      <td>24.7</td>\n",
       "      <td>1</td>\n",
       "      <td>1999-07-09 21:08:12.541602400</td>\n",
       "      <td>POINT (-81.85270 42.26090)</td>\n",
       "    </tr>\n",
       "    <tr>\n",
       "      <th>4</th>\n",
       "      <td>17.0</td>\n",
       "      <td>1</td>\n",
       "      <td>1999-05-31 11:17:37.366857700</td>\n",
       "      <td>POINT (-82.14310 42.24170)</td>\n",
       "    </tr>\n",
       "  </tbody>\n",
       "</table>\n",
       "</div>"
      ],
      "text/plain": [
       "   event_strength_kiloamperes  multiplicity                     timestamp  \\\n",
       "0                       204.3             2 1999-12-04 04:17:18.131325233   \n",
       "1                        50.4             1 1999-04-22 07:52:12.552416300   \n",
       "2                        55.0             1 1999-05-31 11:12:06.365744700   \n",
       "3                        24.7             1 1999-07-09 21:08:12.541602400   \n",
       "4                        17.0             1 1999-05-31 11:17:37.366857700   \n",
       "\n",
       "                     geometry  \n",
       "0  POINT (-82.16530 42.22310)  \n",
       "1  POINT (-82.15990 42.22470)  \n",
       "2  POINT (-82.16500 42.22820)  \n",
       "3  POINT (-81.85270 42.26090)  \n",
       "4  POINT (-82.14310 42.24170)  "
      ]
     },
     "execution_count": 9,
     "metadata": {},
     "output_type": "execute_result"
    }
   ],
   "source": [
    "positive_flashes_gpd.head()"
   ]
  },
  {
   "cell_type": "code",
   "execution_count": 10,
   "id": "916e27e5",
   "metadata": {},
   "outputs": [
    {
     "data": {
      "text/plain": [
       "(2786010, 4)"
      ]
     },
     "execution_count": 10,
     "metadata": {},
     "output_type": "execute_result"
    }
   ],
   "source": [
    "positive_flashes_gpd.shape"
   ]
  },
  {
   "cell_type": "code",
   "execution_count": 11,
   "id": "f77fcbce",
   "metadata": {},
   "outputs": [],
   "source": [
    "positive_flashes_gpd.to_csv(PREPROCESSED_POSITIVE_FLASHES_1998_2010)"
   ]
  },
  {
   "cell_type": "code",
   "execution_count": null,
   "id": "970c7ea8",
   "metadata": {},
   "outputs": [],
   "source": [
    "positive_flashes_gpd.to_postgis(\n",
    "    name=LIGHTNING_TABLE_NAME, \n",
    "    con=engine, \n",
    "    if_exists='replace', \n",
    "    index=True\n",
    ")"
   ]
  },
  {
   "cell_type": "code",
   "execution_count": null,
   "id": "e1981993",
   "metadata": {},
   "outputs": [],
   "source": []
  }
 ],
 "metadata": {
  "kernelspec": {
   "display_name": ".venv",
   "language": "python",
   "name": "python3"
  },
  "language_info": {
   "codemirror_mode": {
    "name": "ipython",
    "version": 3
   },
   "file_extension": ".py",
   "mimetype": "text/x-python",
   "name": "python",
   "nbconvert_exporter": "python",
   "pygments_lexer": "ipython3",
   "version": "3.10.12"
  }
 },
 "nbformat": 4,
 "nbformat_minor": 5
}
