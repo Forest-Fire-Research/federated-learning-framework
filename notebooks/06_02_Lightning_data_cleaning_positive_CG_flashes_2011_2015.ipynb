{
 "cells": [
  {
   "cell_type": "code",
   "execution_count": 2,
   "id": "84628960",
   "metadata": {},
   "outputs": [
    {
     "name": "stdout",
     "output_type": "stream",
     "text": [
      "Requirement already satisfied: geopandas in /media/mutakabbir/HDD_2TB_02/Forest_Fire/.venv/lib/python3.10/site-packages (0.14.3)\n",
      "Requirement already satisfied: pandas in /media/mutakabbir/HDD_2TB_02/Forest_Fire/.venv/lib/python3.10/site-packages (1.5.0)\n",
      "Requirement already satisfied: sqlalchemy in /media/mutakabbir/HDD_2TB_02/Forest_Fire/.venv/lib/python3.10/site-packages (1.4.41)\n",
      "Requirement already satisfied: psycopg2-binary in /media/mutakabbir/HDD_2TB_02/Forest_Fire/.venv/lib/python3.10/site-packages (2.9.9)\n",
      "Requirement already satisfied: openpyxl in /media/mutakabbir/HDD_2TB_02/Forest_Fire/.venv/lib/python3.10/site-packages (3.1.2)\n",
      "Requirement already satisfied: geoalchemy2 in /media/mutakabbir/HDD_2TB_02/Forest_Fire/.venv/lib/python3.10/site-packages (0.14.3)\n",
      "Requirement already satisfied: python-dotenv in /media/mutakabbir/HDD_2TB_02/Forest_Fire/.venv/lib/python3.10/site-packages (1.0.1)\n",
      "Requirement already satisfied: dask in /media/mutakabbir/HDD_2TB_02/Forest_Fire/.venv/lib/python3.10/site-packages (2024.2.0)\n",
      "Requirement already satisfied: fiona>=1.8.21 in /media/mutakabbir/HDD_2TB_02/Forest_Fire/.venv/lib/python3.10/site-packages (from geopandas) (1.9.5)\n",
      "Requirement already satisfied: packaging in /media/mutakabbir/HDD_2TB_02/Forest_Fire/.venv/lib/python3.10/site-packages (from geopandas) (21.3)\n",
      "Requirement already satisfied: pyproj>=3.3.0 in /media/mutakabbir/HDD_2TB_02/Forest_Fire/.venv/lib/python3.10/site-packages (from geopandas) (3.6.1)\n",
      "Requirement already satisfied: shapely>=1.8.0 in /media/mutakabbir/HDD_2TB_02/Forest_Fire/.venv/lib/python3.10/site-packages (from geopandas) (2.0.2)\n",
      "Requirement already satisfied: python-dateutil>=2.8.1 in /media/mutakabbir/HDD_2TB_02/Forest_Fire/.venv/lib/python3.10/site-packages (from pandas) (2.8.2)\n",
      "Requirement already satisfied: pytz>=2020.1 in /media/mutakabbir/HDD_2TB_02/Forest_Fire/.venv/lib/python3.10/site-packages (from pandas) (2022.2.1)\n",
      "Requirement already satisfied: numpy>=1.21.0 in /media/mutakabbir/HDD_2TB_02/Forest_Fire/.venv/lib/python3.10/site-packages (from pandas) (1.23.3)\n",
      "Requirement already satisfied: greenlet!=0.4.17 in /media/mutakabbir/HDD_2TB_02/Forest_Fire/.venv/lib/python3.10/site-packages (from sqlalchemy) (1.1.3)\n",
      "Requirement already satisfied: et-xmlfile in /media/mutakabbir/HDD_2TB_02/Forest_Fire/.venv/lib/python3.10/site-packages (from openpyxl) (1.1.0)\n",
      "Requirement already satisfied: click>=8.1 in /media/mutakabbir/HDD_2TB_02/Forest_Fire/.venv/lib/python3.10/site-packages (from dask) (8.1.3)\n",
      "Requirement already satisfied: cloudpickle>=1.5.0 in /media/mutakabbir/HDD_2TB_02/Forest_Fire/.venv/lib/python3.10/site-packages (from dask) (2.2.0)\n",
      "Requirement already satisfied: fsspec>=2021.09.0 in /media/mutakabbir/HDD_2TB_02/Forest_Fire/.venv/lib/python3.10/site-packages (from dask) (2024.2.0)\n",
      "Requirement already satisfied: partd>=1.2.0 in /media/mutakabbir/HDD_2TB_02/Forest_Fire/.venv/lib/python3.10/site-packages (from dask) (1.4.1)\n",
      "Requirement already satisfied: pyyaml>=5.3.1 in /media/mutakabbir/HDD_2TB_02/Forest_Fire/.venv/lib/python3.10/site-packages (from dask) (6.0)\n",
      "Requirement already satisfied: toolz>=0.10.0 in /media/mutakabbir/HDD_2TB_02/Forest_Fire/.venv/lib/python3.10/site-packages (from dask) (0.12.1)\n",
      "Requirement already satisfied: importlib-metadata>=4.13.0 in /media/mutakabbir/HDD_2TB_02/Forest_Fire/.venv/lib/python3.10/site-packages (from dask) (7.0.1)\n",
      "Requirement already satisfied: attrs>=19.2.0 in /media/mutakabbir/HDD_2TB_02/Forest_Fire/.venv/lib/python3.10/site-packages (from fiona>=1.8.21->geopandas) (23.2.0)\n",
      "Requirement already satisfied: certifi in /media/mutakabbir/HDD_2TB_02/Forest_Fire/.venv/lib/python3.10/site-packages (from fiona>=1.8.21->geopandas) (2022.9.14)\n",
      "Requirement already satisfied: click-plugins>=1.0 in /media/mutakabbir/HDD_2TB_02/Forest_Fire/.venv/lib/python3.10/site-packages (from fiona>=1.8.21->geopandas) (1.1.1)\n",
      "Requirement already satisfied: cligj>=0.5 in /media/mutakabbir/HDD_2TB_02/Forest_Fire/.venv/lib/python3.10/site-packages (from fiona>=1.8.21->geopandas) (0.7.2)\n",
      "Requirement already satisfied: six in /media/mutakabbir/HDD_2TB_02/Forest_Fire/.venv/lib/python3.10/site-packages (from fiona>=1.8.21->geopandas) (1.16.0)\n",
      "Requirement already satisfied: setuptools in /media/mutakabbir/HDD_2TB_02/Forest_Fire/.venv/lib/python3.10/site-packages (from fiona>=1.8.21->geopandas) (69.0.3)\n",
      "Requirement already satisfied: zipp>=0.5 in /media/mutakabbir/HDD_2TB_02/Forest_Fire/.venv/lib/python3.10/site-packages (from importlib-metadata>=4.13.0->dask) (3.8.1)\n",
      "Requirement already satisfied: pyparsing!=3.0.5,>=2.0.2 in /media/mutakabbir/HDD_2TB_02/Forest_Fire/.venv/lib/python3.10/site-packages (from packaging->geopandas) (3.0.9)\n",
      "Requirement already satisfied: locket in /media/mutakabbir/HDD_2TB_02/Forest_Fire/.venv/lib/python3.10/site-packages (from partd>=1.2.0->dask) (1.0.0)\n",
      "Note: you may need to restart the kernel to use updated packages.\n"
     ]
    }
   ],
   "source": [
    "%pip install geopandas pandas sqlalchemy psycopg2-binary openpyxl geoalchemy2 python-dotenv dask "
   ]
  },
  {
   "cell_type": "code",
   "execution_count": 1,
   "id": "200bfa1e",
   "metadata": {},
   "outputs": [],
   "source": [
    "import pandas as pd\n",
    "import geopandas as gpd\n",
    "from sqlalchemy import create_engine\n",
    "\n",
    "import os\n",
    "from dotenv import load_dotenv"
   ]
  },
  {
   "cell_type": "markdown",
   "id": "afbcb02b",
   "metadata": {},
   "source": [
    "# Constants"
   ]
  },
  {
   "cell_type": "code",
   "execution_count": 2,
   "id": "aa695077",
   "metadata": {},
   "outputs": [],
   "source": [
    "RAW_LIGHTNING_DATA_2011_2015 = \"../../data/lighting/2011-2015-raw/2011-2015.txt\"\n",
    "PREPROCESSED_POSITIVE_FLASHES_2011_2015 = \"../../data/lighting/porcessed_lightning_csv/2011-2015-positive-cg-flashes.csv\"\n",
    "PATH_TO_DOT_ENV = \"../.env\"\n",
    "\n",
    "LIGHTNING_COLUMNS = [\"date\",\"time\",\"lat\",\"long\",\"event_strength_kiloamperes\",\"chi_square\",\"major_axies_confidence\",\"minor_axies_confidence\",\"angle_of_confidence\",\"multiplicity\",\"cloud_or_ground\",\"na\"]\n",
    "\n",
    "START_YEAR = 1998\n",
    "END_YEAR = 2010\n",
    "\n",
    "DATABASE_TYPE = \"postgresql\"\n",
    "DATABASE_HOST = \"localhost\"\n",
    "\n",
    "CANADIAN_BOUNDARY_TABLE_NAME = \"C\"\n",
    "LIGHTNING_TABLE_NAME = \"L\""
   ]
  },
  {
   "cell_type": "code",
   "execution_count": 3,
   "id": "bec84925",
   "metadata": {},
   "outputs": [],
   "source": [
    "load_dotenv(PATH_TO_DOT_ENV)\n",
    "\n",
    "DATABASE_NAME = os.environ.get(\"DATABASE_NAME\")\n",
    "POSTGRES_USER = os.environ.get(\"POSTGRES_USER\")\n",
    "POSTGRES_PASSWORD = os.environ.get(\"POSTGRES_PASSWORD\")\n",
    "POSTGRES_HOST_PORT = os.environ.get(\"POSTGRES_HOST_PORT\")\n",
    "POSTGRES_CONTAINER_PORT = os.environ.get(\"POSTGRES_CONTAINER_PORT\")"
   ]
  },
  {
   "cell_type": "code",
   "execution_count": 4,
   "id": "7e405d0e",
   "metadata": {},
   "outputs": [],
   "source": [
    "engine = create_engine(f\"{DATABASE_TYPE}://{POSTGRES_USER}:{POSTGRES_PASSWORD}@{DATABASE_HOST}:{POSTGRES_HOST_PORT}/{DATABASE_NAME}\")"
   ]
  },
  {
   "cell_type": "markdown",
   "id": "a83eb6f4",
   "metadata": {},
   "source": [
    "# Load Canadian geometry for filtering"
   ]
  },
  {
   "cell_type": "code",
   "execution_count": 6,
   "id": "6ca9ffa3",
   "metadata": {},
   "outputs": [],
   "source": [
    "query_canada_boundary = f\"\"\"SELECT * from \"{CANADIAN_BOUNDARY_TABLE_NAME}\" \"\"\"\n",
    "\n",
    "canada_gdf = gpd.read_postgis(\n",
    "    sql=query_canada_boundary, \n",
    "    con=engine, \n",
    "    geom_col=\"geometry\", \n",
    "    crs=\"EPSG:4326\"\n",
    ")"
   ]
  },
  {
   "cell_type": "markdown",
   "id": "39f91e07",
   "metadata": {},
   "source": [
    "# Read data file into pandas"
   ]
  },
  {
   "cell_type": "code",
   "execution_count": 5,
   "id": "42f78fb9",
   "metadata": {},
   "outputs": [],
   "source": [
    "lightning_data_2011_to_2015_df = pd.read_csv(\n",
    "    RAW_LIGHTNING_DATA_2011_2015, \n",
    "    header=None, \n",
    "    sep=\" \",\n",
    "    names=LIGHTNING_COLUMNS\n",
    ")"
   ]
  },
  {
   "cell_type": "code",
   "execution_count": 7,
   "id": "8906c056",
   "metadata": {},
   "outputs": [
    {
     "data": {
      "text/html": [
       "<div>\n",
       "<style scoped>\n",
       "    .dataframe tbody tr th:only-of-type {\n",
       "        vertical-align: middle;\n",
       "    }\n",
       "\n",
       "    .dataframe tbody tr th {\n",
       "        vertical-align: top;\n",
       "    }\n",
       "\n",
       "    .dataframe thead th {\n",
       "        text-align: right;\n",
       "    }\n",
       "</style>\n",
       "<table border=\"1\" class=\"dataframe\">\n",
       "  <thead>\n",
       "    <tr style=\"text-align: right;\">\n",
       "      <th></th>\n",
       "      <th>date</th>\n",
       "      <th>time</th>\n",
       "      <th>lat</th>\n",
       "      <th>long</th>\n",
       "      <th>event_strength_kiloamperes</th>\n",
       "      <th>chi_square</th>\n",
       "      <th>major_axies_confidence</th>\n",
       "      <th>minor_axies_confidence</th>\n",
       "      <th>angle_of_confidence</th>\n",
       "      <th>multiplicity</th>\n",
       "      <th>cloud_or_ground</th>\n",
       "      <th>na</th>\n",
       "    </tr>\n",
       "  </thead>\n",
       "  <tbody>\n",
       "    <tr>\n",
       "      <th>0</th>\n",
       "      <td>2011-01-01</td>\n",
       "      <td>00:42:20.864178221</td>\n",
       "      <td>40.4133</td>\n",
       "      <td>-86.1272</td>\n",
       "      <td>20.0</td>\n",
       "      <td>11.4</td>\n",
       "      <td>0.2</td>\n",
       "      <td>0.2</td>\n",
       "      <td>141</td>\n",
       "      <td>1</td>\n",
       "      <td>C</td>\n",
       "      <td>NaN</td>\n",
       "    </tr>\n",
       "    <tr>\n",
       "      <th>1</th>\n",
       "      <td>2011-01-01</td>\n",
       "      <td>03:58:18.273089591</td>\n",
       "      <td>40.1700</td>\n",
       "      <td>-85.5770</td>\n",
       "      <td>-22.3</td>\n",
       "      <td>0.8</td>\n",
       "      <td>0.2</td>\n",
       "      <td>0.2</td>\n",
       "      <td>140</td>\n",
       "      <td>1</td>\n",
       "      <td>C</td>\n",
       "      <td>NaN</td>\n",
       "    </tr>\n",
       "    <tr>\n",
       "      <th>2</th>\n",
       "      <td>2011-01-01</td>\n",
       "      <td>03:58:18.278492082</td>\n",
       "      <td>40.1642</td>\n",
       "      <td>-85.5767</td>\n",
       "      <td>-21.9</td>\n",
       "      <td>1.4</td>\n",
       "      <td>0.2</td>\n",
       "      <td>0.2</td>\n",
       "      <td>102</td>\n",
       "      <td>2</td>\n",
       "      <td>G</td>\n",
       "      <td>NaN</td>\n",
       "    </tr>\n",
       "    <tr>\n",
       "      <th>3</th>\n",
       "      <td>2011-01-01</td>\n",
       "      <td>04:09:00.126383544</td>\n",
       "      <td>40.2733</td>\n",
       "      <td>-85.4885</td>\n",
       "      <td>18.4</td>\n",
       "      <td>0.7</td>\n",
       "      <td>0.2</td>\n",
       "      <td>0.2</td>\n",
       "      <td>122</td>\n",
       "      <td>3</td>\n",
       "      <td>G</td>\n",
       "      <td>NaN</td>\n",
       "    </tr>\n",
       "    <tr>\n",
       "      <th>4</th>\n",
       "      <td>2011-01-01</td>\n",
       "      <td>04:09:00.148252640</td>\n",
       "      <td>40.3036</td>\n",
       "      <td>-85.5081</td>\n",
       "      <td>14.2</td>\n",
       "      <td>3.1</td>\n",
       "      <td>0.9</td>\n",
       "      <td>0.2</td>\n",
       "      <td>134</td>\n",
       "      <td>1</td>\n",
       "      <td>C</td>\n",
       "      <td>NaN</td>\n",
       "    </tr>\n",
       "    <tr>\n",
       "      <th>...</th>\n",
       "      <td>...</td>\n",
       "      <td>...</td>\n",
       "      <td>...</td>\n",
       "      <td>...</td>\n",
       "      <td>...</td>\n",
       "      <td>...</td>\n",
       "      <td>...</td>\n",
       "      <td>...</td>\n",
       "      <td>...</td>\n",
       "      <td>...</td>\n",
       "      <td>...</td>\n",
       "      <td>...</td>\n",
       "    </tr>\n",
       "    <tr>\n",
       "      <th>59636405</th>\n",
       "      <td>2015-12-30</td>\n",
       "      <td>08:16:29.928067936</td>\n",
       "      <td>41.5109</td>\n",
       "      <td>-54.3392</td>\n",
       "      <td>-75.2</td>\n",
       "      <td>11.9</td>\n",
       "      <td>1.3</td>\n",
       "      <td>0.3</td>\n",
       "      <td>151</td>\n",
       "      <td>1</td>\n",
       "      <td>G</td>\n",
       "      <td>NaN</td>\n",
       "    </tr>\n",
       "    <tr>\n",
       "      <th>59636406</th>\n",
       "      <td>2015-12-30</td>\n",
       "      <td>08:20:15.688690987</td>\n",
       "      <td>41.4905</td>\n",
       "      <td>-54.3313</td>\n",
       "      <td>-35.1</td>\n",
       "      <td>3.0</td>\n",
       "      <td>4.0</td>\n",
       "      <td>0.3</td>\n",
       "      <td>155</td>\n",
       "      <td>1</td>\n",
       "      <td>G</td>\n",
       "      <td>NaN</td>\n",
       "    </tr>\n",
       "    <tr>\n",
       "      <th>59636407</th>\n",
       "      <td>2015-12-30</td>\n",
       "      <td>08:21:15.644064045</td>\n",
       "      <td>41.4145</td>\n",
       "      <td>-53.0374</td>\n",
       "      <td>67.0</td>\n",
       "      <td>2.8</td>\n",
       "      <td>3.6</td>\n",
       "      <td>0.4</td>\n",
       "      <td>155</td>\n",
       "      <td>1</td>\n",
       "      <td>G</td>\n",
       "      <td>NaN</td>\n",
       "    </tr>\n",
       "    <tr>\n",
       "      <th>59636408</th>\n",
       "      <td>2015-12-30</td>\n",
       "      <td>08:21:15.806073037</td>\n",
       "      <td>41.8114</td>\n",
       "      <td>-53.1512</td>\n",
       "      <td>59.2</td>\n",
       "      <td>1.8</td>\n",
       "      <td>3.5</td>\n",
       "      <td>0.3</td>\n",
       "      <td>148</td>\n",
       "      <td>1</td>\n",
       "      <td>G</td>\n",
       "      <td>NaN</td>\n",
       "    </tr>\n",
       "    <tr>\n",
       "      <th>59636409</th>\n",
       "      <td>2015-12-31</td>\n",
       "      <td>19:05:25.788985600</td>\n",
       "      <td>60.1486</td>\n",
       "      <td>-142.8531</td>\n",
       "      <td>68.1</td>\n",
       "      <td>2.9</td>\n",
       "      <td>0.4</td>\n",
       "      <td>0.2</td>\n",
       "      <td>33</td>\n",
       "      <td>1</td>\n",
       "      <td>G</td>\n",
       "      <td>NaN</td>\n",
       "    </tr>\n",
       "  </tbody>\n",
       "</table>\n",
       "<p>59636410 rows × 12 columns</p>\n",
       "</div>"
      ],
      "text/plain": [
       "                date                time      lat      long  \\\n",
       "0         2011-01-01  00:42:20.864178221  40.4133  -86.1272   \n",
       "1         2011-01-01  03:58:18.273089591  40.1700  -85.5770   \n",
       "2         2011-01-01  03:58:18.278492082  40.1642  -85.5767   \n",
       "3         2011-01-01  04:09:00.126383544  40.2733  -85.4885   \n",
       "4         2011-01-01  04:09:00.148252640  40.3036  -85.5081   \n",
       "...              ...                 ...      ...       ...   \n",
       "59636405  2015-12-30  08:16:29.928067936  41.5109  -54.3392   \n",
       "59636406  2015-12-30  08:20:15.688690987  41.4905  -54.3313   \n",
       "59636407  2015-12-30  08:21:15.644064045  41.4145  -53.0374   \n",
       "59636408  2015-12-30  08:21:15.806073037  41.8114  -53.1512   \n",
       "59636409  2015-12-31  19:05:25.788985600  60.1486 -142.8531   \n",
       "\n",
       "          event_strength_kiloamperes  chi_square  major_axies_confidence  \\\n",
       "0                               20.0        11.4                     0.2   \n",
       "1                              -22.3         0.8                     0.2   \n",
       "2                              -21.9         1.4                     0.2   \n",
       "3                               18.4         0.7                     0.2   \n",
       "4                               14.2         3.1                     0.9   \n",
       "...                              ...         ...                     ...   \n",
       "59636405                       -75.2        11.9                     1.3   \n",
       "59636406                       -35.1         3.0                     4.0   \n",
       "59636407                        67.0         2.8                     3.6   \n",
       "59636408                        59.2         1.8                     3.5   \n",
       "59636409                        68.1         2.9                     0.4   \n",
       "\n",
       "          minor_axies_confidence  angle_of_confidence  multiplicity  \\\n",
       "0                            0.2                  141             1   \n",
       "1                            0.2                  140             1   \n",
       "2                            0.2                  102             2   \n",
       "3                            0.2                  122             3   \n",
       "4                            0.2                  134             1   \n",
       "...                          ...                  ...           ...   \n",
       "59636405                     0.3                  151             1   \n",
       "59636406                     0.3                  155             1   \n",
       "59636407                     0.4                  155             1   \n",
       "59636408                     0.3                  148             1   \n",
       "59636409                     0.2                   33             1   \n",
       "\n",
       "         cloud_or_ground  na  \n",
       "0                      C NaN  \n",
       "1                      C NaN  \n",
       "2                      G NaN  \n",
       "3                      G NaN  \n",
       "4                      C NaN  \n",
       "...                  ...  ..  \n",
       "59636405               G NaN  \n",
       "59636406               G NaN  \n",
       "59636407               G NaN  \n",
       "59636408               G NaN  \n",
       "59636409               G NaN  \n",
       "\n",
       "[59636410 rows x 12 columns]"
      ]
     },
     "execution_count": 7,
     "metadata": {},
     "output_type": "execute_result"
    }
   ],
   "source": [
    "lightning_data_2011_to_2015_df"
   ]
  },
  {
   "cell_type": "markdown",
   "id": "c25ac76a",
   "metadata": {},
   "source": [
    "# Preprocess the data "
   ]
  },
  {
   "cell_type": "code",
   "execution_count": null,
   "id": "ce7b3f04",
   "metadata": {},
   "outputs": [],
   "source": [
    "# remove Cloud - Cloud lightning\n",
    "lightning_data_2011_to_2015_df = lightning_data_2011_to_2015_df[lightning_data_2011_to_2015_df['cloud_or_ground'] == 'G']"
   ]
  },
  {
   "cell_type": "code",
   "execution_count": null,
   "id": "cc071cd9",
   "metadata": {},
   "outputs": [],
   "source": [
    "# remove negative flashes\n",
    "lightning_data_2011_to_2015_df = lightning_data_2011_to_2015_df[lightning_data_2011_to_2015_df['event_strength_kiloamperes'] > 0]"
   ]
  },
  {
   "cell_type": "code",
   "execution_count": null,
   "id": "43850bf8",
   "metadata": {},
   "outputs": [],
   "source": [
    "# drop columns\n",
    "lightning_data_2011_to_2015_df = lightning_data_2011_to_2015_df.drop([\n",
    "    'chi_square',\n",
    "    'major_axies_confidence',\n",
    "    'minor_axies_confidence',\n",
    "    'angle_of_confidence',\n",
    "    'cloud_or_ground',\n",
    "    'na'\n",
    "],axis=1)"
   ]
  },
  {
   "cell_type": "code",
   "execution_count": null,
   "id": "bec6b5d2",
   "metadata": {},
   "outputs": [],
   "source": [
    "# read as GeoPandas\n",
    "lightning_data_2011_to_2015_gdf = gpd.GeoDataFrame(\n",
    "                    lightning_data_2011_to_2015_df[['date','time','event_strength_kiloamperes','multiplicity']],\n",
    "                    crs=\"EPSG:4326\",\n",
    "                    geometry=gpd.points_from_xy(lightning_data_2011_to_2015_df.long, lightning_data_2011_to_2015_df.lat)\n",
    ")"
   ]
  },
  {
   "cell_type": "code",
   "execution_count": null,
   "id": "51804cfd",
   "metadata": {},
   "outputs": [],
   "source": [
    "del lightning_data_2011_to_2015_df"
   ]
  },
  {
   "cell_type": "code",
   "execution_count": null,
   "id": "d1eab111",
   "metadata": {},
   "outputs": [],
   "source": [
    "# clip to only canada\n",
    "lightning_data_2011_to_2015_gdf = lightning_data_2011_to_2015_gdf.clip(canada_gdf)"
   ]
  },
  {
   "cell_type": "code",
   "execution_count": null,
   "id": "1d058802",
   "metadata": {},
   "outputs": [],
   "source": [
    "# creating datetime field\n",
    "lightning_data_2011_to_2015_gdf['timestamp'] = lightning_data_2011_to_2015_gdf.apply(lambda row: f\"{row.date} {row.time}\", axis=1)\n",
    "lightning_data_2011_to_2015_gdf['timestamp'] = pd.to_datetime(lightning_data_2011_to_2015_gdf['timestamp'])\n",
    "lightning_data_2011_to_2015_gdf = lightning_data_2011_to_2015_gdf.drop(['date','time'], axis=1)"
   ]
  },
  {
   "cell_type": "code",
   "execution_count": null,
   "id": "8fab7fe4",
   "metadata": {
    "scrolled": false
   },
   "outputs": [],
   "source": [
    "# reset index\n",
    "lightning_data_2011_to_2015_gdf.reset_index(drop=True, inplace=True)"
   ]
  },
  {
   "cell_type": "markdown",
   "id": "74d3a9ed",
   "metadata": {},
   "source": [
    "# Save Dataset"
   ]
  },
  {
   "cell_type": "code",
   "execution_count": null,
   "id": "cee3263b",
   "metadata": {},
   "outputs": [],
   "source": [
    "lightning_data_2011_to_2015_gdf.to_csv(PREPROCESSED_POSITIVE_FLASHES_2011_2015)"
   ]
  },
  {
   "cell_type": "code",
   "execution_count": null,
   "id": "dd42c1fa",
   "metadata": {},
   "outputs": [],
   "source": [
    "lightning_data_2011_to_2015_gdf.to_postgis(\n",
    "    name=LIGHTNING_TABLE_NAME, \n",
    "    con=engine, \n",
    "    if_exists='append', \n",
    "    index=True\n",
    ")"
   ]
  },
  {
   "cell_type": "code",
   "execution_count": null,
   "id": "d79bd260",
   "metadata": {},
   "outputs": [],
   "source": []
  }
 ],
 "metadata": {
  "kernelspec": {
   "display_name": ".venv",
   "language": "python",
   "name": "python3"
  },
  "language_info": {
   "codemirror_mode": {
    "name": "ipython",
    "version": 3
   },
   "file_extension": ".py",
   "mimetype": "text/x-python",
   "name": "python",
   "nbconvert_exporter": "python",
   "pygments_lexer": "ipython3",
   "version": "3.10.12"
  }
 },
 "nbformat": 4,
 "nbformat_minor": 5
}
