{
 "cells": [
  {
   "cell_type": "code",
   "execution_count": 1,
   "metadata": {},
   "outputs": [
    {
     "name": "stdout",
     "output_type": "stream",
     "text": [
      "Requirement already satisfied: torch in /media/mutakabbir/HDD_2TB_02/Forest_Fire/.venv/lib/python3.10/site-packages (2.2.0)\n",
      "Requirement already satisfied: torchvision in /media/mutakabbir/HDD_2TB_02/Forest_Fire/.venv/lib/python3.10/site-packages (0.17.0)\n",
      "Requirement already satisfied: torchaudio in /media/mutakabbir/HDD_2TB_02/Forest_Fire/.venv/lib/python3.10/site-packages (2.2.0)\n",
      "Requirement already satisfied: filelock in /media/mutakabbir/HDD_2TB_02/Forest_Fire/.venv/lib/python3.10/site-packages (from torch) (3.13.1)\n",
      "Requirement already satisfied: typing-extensions>=4.8.0 in /media/mutakabbir/HDD_2TB_02/Forest_Fire/.venv/lib/python3.10/site-packages (from torch) (4.9.0)\n",
      "Requirement already satisfied: sympy in /media/mutakabbir/HDD_2TB_02/Forest_Fire/.venv/lib/python3.10/site-packages (from torch) (1.12)\n",
      "Requirement already satisfied: networkx in /media/mutakabbir/HDD_2TB_02/Forest_Fire/.venv/lib/python3.10/site-packages (from torch) (3.2.1)\n",
      "Requirement already satisfied: jinja2 in /media/mutakabbir/HDD_2TB_02/Forest_Fire/.venv/lib/python3.10/site-packages (from torch) (3.1.2)\n",
      "Requirement already satisfied: fsspec in /media/mutakabbir/HDD_2TB_02/Forest_Fire/.venv/lib/python3.10/site-packages (from torch) (2024.2.0)\n",
      "Requirement already satisfied: nvidia-cuda-nvrtc-cu12==12.1.105 in /media/mutakabbir/HDD_2TB_02/Forest_Fire/.venv/lib/python3.10/site-packages (from torch) (12.1.105)\n",
      "Requirement already satisfied: nvidia-cuda-runtime-cu12==12.1.105 in /media/mutakabbir/HDD_2TB_02/Forest_Fire/.venv/lib/python3.10/site-packages (from torch) (12.1.105)\n",
      "Requirement already satisfied: nvidia-cuda-cupti-cu12==12.1.105 in /media/mutakabbir/HDD_2TB_02/Forest_Fire/.venv/lib/python3.10/site-packages (from torch) (12.1.105)\n",
      "Requirement already satisfied: nvidia-cudnn-cu12==8.9.2.26 in /media/mutakabbir/HDD_2TB_02/Forest_Fire/.venv/lib/python3.10/site-packages (from torch) (8.9.2.26)\n",
      "Requirement already satisfied: nvidia-cublas-cu12==12.1.3.1 in /media/mutakabbir/HDD_2TB_02/Forest_Fire/.venv/lib/python3.10/site-packages (from torch) (12.1.3.1)\n",
      "Requirement already satisfied: nvidia-cufft-cu12==11.0.2.54 in /media/mutakabbir/HDD_2TB_02/Forest_Fire/.venv/lib/python3.10/site-packages (from torch) (11.0.2.54)\n",
      "Requirement already satisfied: nvidia-curand-cu12==10.3.2.106 in /media/mutakabbir/HDD_2TB_02/Forest_Fire/.venv/lib/python3.10/site-packages (from torch) (10.3.2.106)\n",
      "Requirement already satisfied: nvidia-cusolver-cu12==11.4.5.107 in /media/mutakabbir/HDD_2TB_02/Forest_Fire/.venv/lib/python3.10/site-packages (from torch) (11.4.5.107)\n",
      "Requirement already satisfied: nvidia-cusparse-cu12==12.1.0.106 in /media/mutakabbir/HDD_2TB_02/Forest_Fire/.venv/lib/python3.10/site-packages (from torch) (12.1.0.106)\n",
      "Requirement already satisfied: nvidia-nccl-cu12==2.19.3 in /media/mutakabbir/HDD_2TB_02/Forest_Fire/.venv/lib/python3.10/site-packages (from torch) (2.19.3)\n",
      "Requirement already satisfied: nvidia-nvtx-cu12==12.1.105 in /media/mutakabbir/HDD_2TB_02/Forest_Fire/.venv/lib/python3.10/site-packages (from torch) (12.1.105)\n",
      "Requirement already satisfied: triton==2.2.0 in /media/mutakabbir/HDD_2TB_02/Forest_Fire/.venv/lib/python3.10/site-packages (from torch) (2.2.0)\n",
      "Requirement already satisfied: nvidia-nvjitlink-cu12 in /media/mutakabbir/HDD_2TB_02/Forest_Fire/.venv/lib/python3.10/site-packages (from nvidia-cusolver-cu12==11.4.5.107->torch) (12.3.101)\n",
      "Requirement already satisfied: numpy in /media/mutakabbir/HDD_2TB_02/Forest_Fire/.venv/lib/python3.10/site-packages (from torchvision) (1.23.3)\n",
      "Requirement already satisfied: requests in /media/mutakabbir/HDD_2TB_02/Forest_Fire/.venv/lib/python3.10/site-packages (from torchvision) (2.28.1)\n",
      "Requirement already satisfied: pillow!=8.3.*,>=5.3.0 in /media/mutakabbir/HDD_2TB_02/Forest_Fire/.venv/lib/python3.10/site-packages (from torchvision) (10.2.0)\n",
      "Requirement already satisfied: MarkupSafe>=2.0 in /media/mutakabbir/HDD_2TB_02/Forest_Fire/.venv/lib/python3.10/site-packages (from jinja2->torch) (2.1.1)\n",
      "Requirement already satisfied: charset-normalizer<3,>=2 in /media/mutakabbir/HDD_2TB_02/Forest_Fire/.venv/lib/python3.10/site-packages (from requests->torchvision) (2.1.1)\n",
      "Requirement already satisfied: idna<4,>=2.5 in /media/mutakabbir/HDD_2TB_02/Forest_Fire/.venv/lib/python3.10/site-packages (from requests->torchvision) (3.4)\n",
      "Requirement already satisfied: urllib3<1.27,>=1.21.1 in /media/mutakabbir/HDD_2TB_02/Forest_Fire/.venv/lib/python3.10/site-packages (from requests->torchvision) (1.26.12)\n",
      "Requirement already satisfied: certifi>=2017.4.17 in /media/mutakabbir/HDD_2TB_02/Forest_Fire/.venv/lib/python3.10/site-packages (from requests->torchvision) (2022.9.14)\n",
      "Requirement already satisfied: mpmath>=0.19 in /media/mutakabbir/HDD_2TB_02/Forest_Fire/.venv/lib/python3.10/site-packages (from sympy->torch) (1.3.0)\n",
      "Note: you may need to restart the kernel to use updated packages.\n"
     ]
    }
   ],
   "source": [
    "%pip install torch torchvision torchaudio"
   ]
  },
  {
   "cell_type": "code",
   "execution_count": 2,
   "metadata": {},
   "outputs": [
    {
     "name": "stdout",
     "output_type": "stream",
     "text": [
      "Overwriting ../../src/utils/target_types.py\n"
     ]
    }
   ],
   "source": [
    "%%writefile ../../src/utils/target_types.py\n",
    "from enum import Enum\n",
    "\n",
    "# define an target enum\n",
    "class DTarget(Enum):\n",
    "    BOOLEAN = 0\n",
    "    AREA = 1"
   ]
  },
  {
   "cell_type": "code",
   "execution_count": 3,
   "metadata": {},
   "outputs": [
    {
     "name": "stdout",
     "output_type": "stream",
     "text": [
      "Overwriting ../../src/utils/stas.py\n"
     ]
    }
   ],
   "source": [
    "%%writefile ../../src/utils/stas.py\n",
    "from pandas import DataFrame, DateOffset, merge\n",
    "from torch import tensor, float32\n",
    "import sys\n",
    "from utils.dataset import Dataset\n",
    "from utils.target_types import DTarget\n",
    "\n",
    "class STASDataGenerator():\n",
    "    def __init__(\n",
    "            self,\n",
    "            k:int,\n",
    "            n:int,\n",
    "            m:int,\n",
    "            d_target:DTarget,\n",
    "            d_station:bool,\n",
    "            d:DataFrame,\n",
    "            d_type:Dataset,\n",
    "            f:DataFrame,\n",
    "    ) -> None:\n",
    "        self.k = k\n",
    "        self.n = n\n",
    "        self.m = m\n",
    "        self.d_target = d_target\n",
    "        self.d_station = d_station\n",
    "        self.d_type = d_type\n",
    "        self.d = d\n",
    "        self.f = f\n",
    "\n",
    "        self.generate()\n",
    "\n",
    "    def get_processed_data(self):\n",
    "        d_p = None\n",
    "        if self.d_station:\n",
    "            d_p = self._get_k_nearest_station_data()\n",
    "        else:\n",
    "            d_p = self._get_aggregrated_dataset()\n",
    "        # adding extra compuation here to reduce repeating the same operation late \n",
    "        d_p = merge(\n",
    "            left = self.f,\n",
    "            right = self.d,\n",
    "            on = 'division_id'\n",
    "        )\n",
    "        return d_p\n",
    "\n",
    "    def _get_k_nearest_station_data(self):\n",
    "        pass\n",
    "\n",
    "    def _get_aggregrated_dataset(self):\n",
    "        # to save on computation this step was completedd in the preprocessing notebooks\n",
    "        assert self.d_type == Dataset.LIGHTNING, f\"ONLY event-based data can be passed to this function!\"\n",
    "        return self.d\n",
    "        \n",
    "    def get_fire_points(self, d_p):\n",
    "        e_f = d_p[(d_p[\"start_date\"] <= d_p[\"timestamp\"]) & (d_p[\"start_date\"] >= d_p[\"timestamp\"]-DateOffset(days=self.n))]\n",
    "        e_f = e_f.groupby(Dataset.FIRE.value['data_columns'])\n",
    "        return e_f\n",
    "    \n",
    "    def get_non_fire_points(self, d_p):\n",
    "        e_nf = d_p[(d_p[\"start_date\"] <= d_p[\"timestamp\"]-DateOffset(months=self.m)) & (d_p[\"start_date\"] >= d_p[\"timestamp\"]-DateOffset(months=self.m,days=self.n))]\n",
    "        e_nf = e_nf.groupby(Dataset.FIRE.value['data_columns'])\n",
    "        return e_nf\n",
    "    \n",
    "    def __del_spatio_temporal_info(self, df:DataFrame):\n",
    "        data_columns = self.d_type.value['data_columns']\n",
    "        df = df[data_columns]\n",
    "        del data_columns\n",
    "        return df\n",
    "    \n",
    "    def __flatten_data(self, df:DataFrame):\n",
    "        flattend_df = df.stack().reset_index(drop=True).to_list()\n",
    "        return flattend_df\n",
    "\n",
    "    def get_dataset(self, e_f, e_nf):\n",
    "        # initializa dataset\n",
    "        dataset = []\n",
    "        targets = []\n",
    "\n",
    "        # push e_f to datset\n",
    "        for (_fire_date, area_burn), datapoint_df in e_f:\n",
    "            # append target value \n",
    "            if self.d_target == DTarget.AREA:\n",
    "                targets.append(area_burn)\n",
    "            elif self.d_target == DTarget.BOOLEAN:\n",
    "                targets.append(1)\n",
    "            else:\n",
    "                targets.append(None)\n",
    "            # deleted spatial or teporal indo\n",
    "            datapoint_df = self.__del_spatio_temporal_info(datapoint_df)\n",
    "            datapoint = self.__flatten_data(datapoint_df)\n",
    "            del datapoint_df\n",
    "            # append data_points \n",
    "            dataset.append(datapoint)\n",
    "            del datapoint\n",
    "\n",
    "        # push e_nf to datset\n",
    "        for (_fire_date, area_burn), datapoint_df in e_nf:\n",
    "            # append target value \n",
    "            if (self.d_target == DTarget.AREA) or (self.d_target == DTarget.BOOLEAN):\n",
    "                targets.append(0)\n",
    "            else:\n",
    "                targets.append(None)\n",
    "            # deleted spatial or teporal indo\n",
    "            datapoint_df = self.__del_spatio_temporal_info(datapoint_df)\n",
    "            datapoint = self.__flatten_data(datapoint_df)\n",
    "            del datapoint_df\n",
    "            # append data_points \n",
    "            dataset.append(datapoint)\n",
    "            del datapoint\n",
    "        \n",
    "        self.target_df = DataFrame({\n",
    "            \"target\": targets\n",
    "        })\n",
    "        dataset_columns = [f\"{column}_{n}\" for n in range(self.n+1) for column in self.d_type.value['data_columns']]\n",
    "        self.dataset_df = DataFrame(\n",
    "            data = dataset,\n",
    "            columns = dataset_columns\n",
    "        )\n",
    "        del dataset\n",
    "        del targets\n",
    "        del dataset_columns\n",
    "        self.dataset_df.fillna(0, inplace=True)\n",
    "\n",
    "        # randomly sample train and test data\n",
    "        self.train_index = self.dataset_df.sample(frac=0.8).index\n",
    "        self.test_index = self.dataset_df.drop(self.train_index).index\n",
    "        \n",
    "        # standardize the data \n",
    "        self.mean = self.dataset_df.loc[self.train_index].mean()\n",
    "        self.std = self.dataset_df.loc[self.train_index].std()\n",
    "        self.dataset_df = (self.dataset_df - self.mean) / self.std\n",
    "\n",
    "        # split into datasets\n",
    "        self.train_x = tensor(\n",
    "            self.dataset_df.loc[self.train_index].values, \n",
    "            dtype=float32\n",
    "        )\n",
    "        self.train_y = tensor(\n",
    "            self.target_df.loc[self.train_index].values, \n",
    "            dtype=float32\n",
    "        )\n",
    "        self.test_x = tensor(\n",
    "            self.dataset_df.loc[self.test_index].values,\n",
    "            dtype=float32\n",
    "        )\n",
    "        self.test_y = tensor(\n",
    "            self.target_df.loc[self.test_index].values,\n",
    "            dtype=float32\n",
    "        )\n",
    "\n",
    "        # discard excess info\n",
    "        del self.dataset_df\n",
    "        del self.target_df\n",
    "        del self.test_index\n",
    "        del self.train_index\n",
    "\n",
    "    def generate(self):\n",
    "        d_p = self.get_processed_data()\n",
    "        e_f = self.get_fire_points(d_p = d_p)\n",
    "        e_nf = self.get_non_fire_points(d_p = d_p)\n",
    "        self.get_dataset(e_f=e_f, e_nf=e_nf)"
   ]
  },
  {
   "cell_type": "code",
   "execution_count": 13,
   "metadata": {},
   "outputs": [],
   "source": [
    "import os\n",
    "from dotenv import load_dotenv\n",
    "\n",
    "from sqlalchemy.engine import URL\n",
    "\n",
    "import sys\n",
    "src_path = \"../../src/\"\n",
    "sys.path.append(src_path)\n",
    "from utils.generate_subdivision import GenSubdivision\n",
    "from utils.dataset import Dataset\n",
    "from utils.stas import STASDataGenerator\n",
    "from utils.target_types import DTarget"
   ]
  },
  {
   "cell_type": "code",
   "execution_count": 5,
   "metadata": {},
   "outputs": [],
   "source": [
    "PATH_TO_DOT_ENV = \"../../.env\"\n",
    "\n",
    "DATABASE_TYPE = \"postgresql\"\n",
    "DATABASE_HOST = \"localhost\"\n",
    "\n",
    "K = 1\n",
    "N = 7\n",
    "M = 3\n"
   ]
  },
  {
   "cell_type": "code",
   "execution_count": 6,
   "metadata": {},
   "outputs": [],
   "source": [
    "load_dotenv(PATH_TO_DOT_ENV)\n",
    "\n",
    "DATABASE_NAME = os.environ.get(\"DATABASE_NAME\")\n",
    "POSTGRES_USER = os.environ.get(\"POSTGRES_USER\")\n",
    "POSTGRES_PASSWORD = os.environ.get(\"POSTGRES_PASSWORD\")\n",
    "POSTGRES_HOST_PORT = os.environ.get(\"POSTGRES_HOST_PORT\")\n",
    "POSTGRES_CONTAINER_PORT = os.environ.get(\"POSTGRES_CONTAINER_PORT\")"
   ]
  },
  {
   "cell_type": "code",
   "execution_count": 7,
   "metadata": {},
   "outputs": [],
   "source": [
    "DATABASE_URL = URL.create(\n",
    "    DATABASE_TYPE,\n",
    "    username=POSTGRES_USER,\n",
    "    password=POSTGRES_PASSWORD,  # plain (unescaped) text\n",
    "    host=DATABASE_HOST,\n",
    "    port=POSTGRES_HOST_PORT,\n",
    "    database=DATABASE_NAME,\n",
    ")"
   ]
  },
  {
   "cell_type": "code",
   "execution_count": 8,
   "metadata": {},
   "outputs": [],
   "source": [
    "lightning_generator = GenSubdivision(\n",
    "    d_full = Dataset.LIGHTNING,\n",
    "    db_url = DATABASE_URL\n",
    ")\n",
    "lightning_d_map = lightning_generator.gen_subdivisions()"
   ]
  },
  {
   "cell_type": "code",
   "execution_count": 9,
   "metadata": {},
   "outputs": [],
   "source": [
    "fire_generator = GenSubdivision(\n",
    "    d_full = Dataset.FIRE,\n",
    "    db_url = DATABASE_URL\n",
    ")\n",
    "fire_d_map = fire_generator.gen_subdivisions()"
   ]
  },
  {
   "cell_type": "code",
   "execution_count": 10,
   "metadata": {},
   "outputs": [],
   "source": [
    "lightning_s_id, lightning_d = next(iter(lightning_d_map))\n",
    "fire_s_id, fire_d = next(iter(fire_d_map))"
   ]
  },
  {
   "cell_type": "code",
   "execution_count": 11,
   "metadata": {},
   "outputs": [],
   "source": [
    "assert lightning_s_id == fire_s_id"
   ]
  },
  {
   "cell_type": "code",
   "execution_count": 14,
   "metadata": {},
   "outputs": [],
   "source": [
    "stas_generatr = STASDataGenerator(\n",
    "    k=K,\n",
    "    n=N,\n",
    "    m=M,\n",
    "    d_target=DTarget.BOOLEAN,\n",
    "    d_station=False,\n",
    "    d=lightning_d,\n",
    "    d_type=Dataset.LIGHTNING,\n",
    "    f=fire_d\n",
    ")"
   ]
  },
  {
   "cell_type": "code",
   "execution_count": 20,
   "metadata": {},
   "outputs": [],
   "source": [
    "# test if there are (N+1) x (num_of_fetures) columns present in the dataset\n",
    "assert stas_generatr.test_x.shape[1] == (N+1)*len(Dataset.LIGHTNING.value['data_columns'])"
   ]
  },
  {
   "cell_type": "code",
   "execution_count": null,
   "metadata": {},
   "outputs": [],
   "source": []
  }
 ],
 "metadata": {
  "kernelspec": {
   "display_name": ".venv",
   "language": "python",
   "name": "python3"
  },
  "language_info": {
   "codemirror_mode": {
    "name": "ipython",
    "version": 3
   },
   "file_extension": ".py",
   "mimetype": "text/x-python",
   "name": "python",
   "nbconvert_exporter": "python",
   "pygments_lexer": "ipython3",
   "version": "3.10.12"
  }
 },
 "nbformat": 4,
 "nbformat_minor": 2
}
