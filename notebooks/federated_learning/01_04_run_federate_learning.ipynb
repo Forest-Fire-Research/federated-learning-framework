{
 "cells": [
  {
   "cell_type": "markdown",
   "metadata": {},
   "source": [
    "# Import Block"
   ]
  },
  {
   "cell_type": "code",
   "execution_count": null,
   "metadata": {},
   "outputs": [],
   "source": [
    "%pip install torch torchvision torchaudio python-dotenv lightning geopandas pandas sqlalchemy psycopg2-binary openpyxl geoalchemy2 python-dotenv numpy mlflow\n"
   ]
  },
  {
   "cell_type": "markdown",
   "metadata": {},
   "source": [
    "# Global Variables"
   ]
  },
  {
   "cell_type": "code",
   "execution_count": null,
   "metadata": {},
   "outputs": [],
   "source": [
    "from sqlalchemy import create_engine\n",
    "from sqlalchemy.engine import URL\n",
    "\n",
    "import os\n",
    "from dotenv import load_dotenv\n",
    "\n",
    "import sys\n",
    "src_path = \"../../src/\"\n",
    "sys.path.append(src_path)\n",
    "from utils.fed_env import FederatedEnvironment\n",
    "from utils.dataset import Dataset\n",
    "from utils.target_types import DTarget\n"
   ]
  },
  {
   "cell_type": "code",
   "execution_count": null,
   "metadata": {},
   "outputs": [],
   "source": [
    "PATH_TO_DOT_ENV = \"../../.env\"\n",
    "\n",
    "DATABASE_TYPE = \"postgresql\"\n",
    "DATABASE_HOST = \"localhost\"\n",
    "\n",
    "MLFLOW_HOST = \"localhost\"\n"
   ]
  },
  {
   "cell_type": "code",
   "execution_count": null,
   "metadata": {},
   "outputs": [],
   "source": [
    "load_dotenv(PATH_TO_DOT_ENV)\n",
    "\n",
    "DATABASE_NAME = os.environ.get(\"DATABASE_NAME\")\n",
    "POSTGRES_USER = os.environ.get(\"POSTGRES_USER\")\n",
    "POSTGRES_PASSWORD = os.environ.get(\"POSTGRES_PASSWORD\")\n",
    "POSTGRES_HOST_PORT = os.environ.get(\"POSTGRES_HOST_PORT\")\n",
    "POSTGRES_CONTAINER_PORT = os.environ.get(\"POSTGRES_CONTAINER_PORT\")\n",
    "\n",
    "MLFLOW_HOST_PORT = os.environ.get(\"MLFLOW_HOST_PORT\")"
   ]
  },
  {
   "cell_type": "code",
   "execution_count": null,
   "metadata": {},
   "outputs": [],
   "source": [
    "N = 30\n",
    "M = 1\n",
    "K = 1\n",
    "\n",
    "BATCH_SIZE = 4096\n",
    "LEARNING_RATE = 0.001 \n",
    "LAYER_MULTIPYER = 2\n",
    "RANDOM_STATE = 1\n",
    "TEST_SIZE = 0.2\n",
    "EPOCHS = 500\n",
    "NUM_NODES_PER_EPOCH = 3\n",
    "NUM_TRAINING_PER_EPOCH = 2\n",
    "\n",
    "MLFLOW_URI = f\"http://{MLFLOW_HOST}:{MLFLOW_HOST_PORT}\""
   ]
  },
  {
   "cell_type": "code",
   "execution_count": null,
   "metadata": {},
   "outputs": [],
   "source": [
    "DATABASE_URL = URL.create(\n",
    "    DATABASE_TYPE,\n",
    "    username=POSTGRES_USER,\n",
    "    password=POSTGRES_PASSWORD,  # plain (unescaped) text\n",
    "    host=DATABASE_HOST,\n",
    "    port=POSTGRES_HOST_PORT,\n",
    "    database=DATABASE_NAME,\n",
    ")\n",
    "# engine = create_engine(DATABASE_URL)\n",
    "# engine = create_engine(f\"{DATABASE_TYPE}://{POSTGRES_USER}:{POSTGRES_PASSWORD}@{DATABASE_HOST}:{POSTGRES_HOST_PORT}/{DATABASE_NAME}\")"
   ]
  },
  {
   "cell_type": "markdown",
   "metadata": {},
   "source": [
    "# Run Federated Learning"
   ]
  },
  {
   "cell_type": "code",
   "execution_count": null,
   "metadata": {},
   "outputs": [],
   "source": [
    "\n",
    "server = FederatedEnvironment(\n",
    "    d_type=Dataset.LIGHTNING,\n",
    "    d_target=DTarget.BOOLEAN,\n",
    "    db_url=DATABASE_URL,\n",
    "    mlflow_uri=MLFLOW_URI,\n",
    "    n=N,\n",
    "    m=M,\n",
    "    k=K, \n",
    "    learning_rate=LEARNING_RATE,\n",
    "    batch_size=BATCH_SIZE,\n",
    ")\n",
    "server.run_phase_1(\n",
    "    epochs=EPOCHS\n",
    ")\n",
    "server.fed_avg(\n",
    "    epochs=EPOCHS, \n",
    "    num_nodes_per_epoch=NUM_NODES_PER_EPOCH,\n",
    "    num_training_per_epoch=NUM_TRAINING_PER_EPOCH,\n",
    ")"
   ]
  },
  {
   "cell_type": "code",
   "execution_count": null,
   "metadata": {},
   "outputs": [],
   "source": []
  }
 ],
 "metadata": {
  "kernelspec": {
   "display_name": ".venv",
   "language": "python",
   "name": "python3"
  },
  "language_info": {
   "codemirror_mode": {
    "name": "ipython",
    "version": 3
   },
   "file_extension": ".py",
   "mimetype": "text/x-python",
   "name": "python",
   "nbconvert_exporter": "python",
   "pygments_lexer": "ipython3",
   "version": "3.10.12"
  },
  "orig_nbformat": 4
 },
 "nbformat": 4,
 "nbformat_minor": 2
}
