{
 "cells": [
  {
   "cell_type": "code",
   "execution_count": 1,
   "metadata": {},
   "outputs": [
    {
     "name": "stdout",
     "output_type": "stream",
     "text": [
      "/bin/bash: /media/mutakabbir/HDD_2TB_02/Forest_Fire/.venv/bin/pip: /media/mutakabbir/HDD_2TB_01/Forest_Fire/.venv/bin/python: bad interpreter: No such file or directory\n"
     ]
    }
   ],
   "source": [
    "! pip install geopandas pandas sqlalchemy psycopg2-binary openpyxl geoalchemy2 python-dotenv"
   ]
  },
  {
   "cell_type": "code",
   "execution_count": 2,
   "metadata": {},
   "outputs": [],
   "source": [
    "import pandas as pd\n",
    "import geopandas as gpd\n",
    "from sqlalchemy import create_engine\n",
    "\n",
    "import os\n",
    "from dotenv import load_dotenv"
   ]
  },
  {
   "cell_type": "code",
   "execution_count": 3,
   "metadata": {},
   "outputs": [],
   "source": [
    "CWEEDS_META_CSV_FLIE_PATH = \"../../data/ics_meta/CWEEDS_2020_stns_all_REV_20210324.xlsx\"\n",
    "PATH_TO_DOT_ENV = \"../../.env\"\n",
    "\n",
    "DATABASE_TYPE = \"postgresql\"\n",
    "DATABASE_HOST = \"localhost\"\n",
    "\n",
    "CWEEDS_META_TABLE_NAME = \"W_m\""
   ]
  },
  {
   "cell_type": "code",
   "execution_count": 4,
   "metadata": {},
   "outputs": [],
   "source": [
    "load_dotenv(PATH_TO_DOT_ENV)\n",
    "\n",
    "DATABASE_NAME = os.environ.get(\"DATABASE_NAME\")\n",
    "POSTGRES_USER = os.environ.get(\"POSTGRES_USER\")\n",
    "POSTGRES_PASSWORD = os.environ.get(\"POSTGRES_PASSWORD\")\n",
    "POSTGRES_HOST_PORT = os.environ.get(\"POSTGRES_HOST_PORT\")\n",
    "POSTGRES_CONTAINER_PORT = os.environ.get(\"POSTGRES_CONTAINER_PORT\")"
   ]
  },
  {
   "cell_type": "code",
   "execution_count": 5,
   "metadata": {},
   "outputs": [],
   "source": [
    "engine = create_engine(f\"{DATABASE_TYPE}://{POSTGRES_USER}:{POSTGRES_PASSWORD}@{DATABASE_HOST}:{POSTGRES_HOST_PORT}/{DATABASE_NAME}\")"
   ]
  },
  {
   "cell_type": "code",
   "execution_count": 6,
   "metadata": {},
   "outputs": [
    {
     "data": {
      "text/html": [
       "<div>\n",
       "<style scoped>\n",
       "    .dataframe tbody tr th:only-of-type {\n",
       "        vertical-align: middle;\n",
       "    }\n",
       "\n",
       "    .dataframe tbody tr th {\n",
       "        vertical-align: top;\n",
       "    }\n",
       "\n",
       "    .dataframe thead th {\n",
       "        text-align: right;\n",
       "    }\n",
       "</style>\n",
       "<table border=\"1\" class=\"dataframe\">\n",
       "  <thead>\n",
       "    <tr style=\"text-align: right;\">\n",
       "      <th></th>\n",
       "      <th>version</th>\n",
       "      <th>name</th>\n",
       "      <th>prov</th>\n",
       "      <th>country</th>\n",
       "      <th>lat</th>\n",
       "      <th>lon</th>\n",
       "      <th>UTC_offset</th>\n",
       "      <th>elev(m)</th>\n",
       "      <th>first_yr</th>\n",
       "      <th>last_yr</th>\n",
       "    </tr>\n",
       "    <tr>\n",
       "      <th>climate_ID</th>\n",
       "      <th></th>\n",
       "      <th></th>\n",
       "      <th></th>\n",
       "      <th></th>\n",
       "      <th></th>\n",
       "      <th></th>\n",
       "      <th></th>\n",
       "      <th></th>\n",
       "      <th></th>\n",
       "      <th></th>\n",
       "    </tr>\n",
       "  </thead>\n",
       "  <tbody>\n",
       "    <tr>\n",
       "      <th>3010010</th>\n",
       "      <td>CWEEDS2011</td>\n",
       "      <td>ABEE AGDM</td>\n",
       "      <td>AB</td>\n",
       "      <td>CAN</td>\n",
       "      <td>54.28</td>\n",
       "      <td>-112.97</td>\n",
       "      <td>-7</td>\n",
       "      <td>664.0</td>\n",
       "      <td>2003</td>\n",
       "      <td>2017</td>\n",
       "    </tr>\n",
       "    <tr>\n",
       "      <th>3010237</th>\n",
       "      <td>CWEEDS2011</td>\n",
       "      <td>ANDREW AGDM</td>\n",
       "      <td>AB</td>\n",
       "      <td>CAN</td>\n",
       "      <td>53.92</td>\n",
       "      <td>-112.28</td>\n",
       "      <td>-7</td>\n",
       "      <td>625.0</td>\n",
       "      <td>2003</td>\n",
       "      <td>2017</td>\n",
       "    </tr>\n",
       "    <tr>\n",
       "      <th>3060406</th>\n",
       "      <td>CWEEDS2011</td>\n",
       "      <td>ATMORE AGDM</td>\n",
       "      <td>AB</td>\n",
       "      <td>CAN</td>\n",
       "      <td>54.78</td>\n",
       "      <td>-112.82</td>\n",
       "      <td>-7</td>\n",
       "      <td>574.0</td>\n",
       "      <td>2003</td>\n",
       "      <td>2017</td>\n",
       "    </tr>\n",
       "    <tr>\n",
       "      <th>3050519</th>\n",
       "      <td>CWEEDS2011</td>\n",
       "      <td>BANFF CS</td>\n",
       "      <td>AB</td>\n",
       "      <td>CAN</td>\n",
       "      <td>51.19</td>\n",
       "      <td>-115.55</td>\n",
       "      <td>-7</td>\n",
       "      <td>1396.9</td>\n",
       "      <td>1998</td>\n",
       "      <td>2017</td>\n",
       "    </tr>\n",
       "    <tr>\n",
       "      <th>3030525</th>\n",
       "      <td>CWEEDS2011</td>\n",
       "      <td>BARNWELL AGDM</td>\n",
       "      <td>AB</td>\n",
       "      <td>CAN</td>\n",
       "      <td>49.80</td>\n",
       "      <td>-112.30</td>\n",
       "      <td>-7</td>\n",
       "      <td>824.2</td>\n",
       "      <td>2003</td>\n",
       "      <td>2017</td>\n",
       "    </tr>\n",
       "  </tbody>\n",
       "</table>\n",
       "</div>"
      ],
      "text/plain": [
       "               version           name prov country    lat     lon  UTC_offset  \\\n",
       "climate_ID                                                                      \n",
       "3010010     CWEEDS2011      ABEE AGDM   AB     CAN  54.28 -112.97          -7   \n",
       "3010237     CWEEDS2011    ANDREW AGDM   AB     CAN  53.92 -112.28          -7   \n",
       "3060406     CWEEDS2011    ATMORE AGDM   AB     CAN  54.78 -112.82          -7   \n",
       "3050519     CWEEDS2011       BANFF CS   AB     CAN  51.19 -115.55          -7   \n",
       "3030525     CWEEDS2011  BARNWELL AGDM   AB     CAN  49.80 -112.30          -7   \n",
       "\n",
       "            elev(m)  first_yr  last_yr  \n",
       "climate_ID                              \n",
       "3010010       664.0      2003     2017  \n",
       "3010237       625.0      2003     2017  \n",
       "3060406       574.0      2003     2017  \n",
       "3050519      1396.9      1998     2017  \n",
       "3030525       824.2      2003     2017  "
      ]
     },
     "execution_count": 6,
     "metadata": {},
     "output_type": "execute_result"
    }
   ],
   "source": [
    "# read the dataset\n",
    "cweeds_meta_df = pd.read_excel(\n",
    "    CWEEDS_META_CSV_FLIE_PATH, \n",
    "    index_col=4\n",
    "    )\n",
    "cweeds_meta_df.head()"
   ]
  },
  {
   "cell_type": "code",
   "execution_count": 7,
   "metadata": {},
   "outputs": [],
   "source": [
    "# convert to Geodataframe\n",
    "cweeds_meta_gdf = gpd.GeoDataFrame(\n",
    "    cweeds_meta_df,\n",
    "    crs=\"EPSG:4326\",\n",
    "    geometry=gpd.points_from_xy(\n",
    "        cweeds_meta_df.lon, \n",
    "        cweeds_meta_df.lat\n",
    "    ),\n",
    ")"
   ]
  },
  {
   "cell_type": "code",
   "execution_count": 8,
   "metadata": {},
   "outputs": [],
   "source": [
    "try:\n",
    "    cweeds_meta_gdf.to_postgis(name=CWEEDS_META_TABLE_NAME, con=engine, if_exists='replace', index=True)  \n",
    "except Exception as e:\n",
    "    print(e)"
   ]
  },
  {
   "cell_type": "code",
   "execution_count": null,
   "metadata": {},
   "outputs": [],
   "source": []
  }
 ],
 "metadata": {
  "kernelspec": {
   "display_name": "Python 3 (ipykernel)",
   "language": "python",
   "name": "python3"
  },
  "language_info": {
   "codemirror_mode": {
    "name": "ipython",
    "version": 3
   },
   "file_extension": ".py",
   "mimetype": "text/x-python",
   "name": "python",
   "nbconvert_exporter": "python",
   "pygments_lexer": "ipython3",
   "version": "3.10.12"
  }
 },
 "nbformat": 4,
 "nbformat_minor": 4
}
