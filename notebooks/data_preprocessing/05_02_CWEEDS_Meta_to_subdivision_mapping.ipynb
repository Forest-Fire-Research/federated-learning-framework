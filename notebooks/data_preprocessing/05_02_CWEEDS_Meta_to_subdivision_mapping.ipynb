{
 "cells": [
  {
   "cell_type": "code",
   "execution_count": 21,
   "metadata": {},
   "outputs": [
    {
     "name": "stdout",
     "output_type": "stream",
     "text": [
      "Requirement already satisfied: geopandas in /media/mutakabbir/HDD_2TB_02/Forest_Fire/federated-learning-framework/.venv/lib/python3.10/site-packages (0.14.3)\n",
      "Requirement already satisfied: pandas in /media/mutakabbir/HDD_2TB_02/Forest_Fire/federated-learning-framework/.venv/lib/python3.10/site-packages (2.2.0)\n",
      "Requirement already satisfied: sqlalchemy in /media/mutakabbir/HDD_2TB_02/Forest_Fire/federated-learning-framework/.venv/lib/python3.10/site-packages (2.0.26)\n",
      "Requirement already satisfied: psycopg2-binary in /media/mutakabbir/HDD_2TB_02/Forest_Fire/federated-learning-framework/.venv/lib/python3.10/site-packages (2.9.9)\n",
      "Requirement already satisfied: openpyxl in /media/mutakabbir/HDD_2TB_02/Forest_Fire/federated-learning-framework/.venv/lib/python3.10/site-packages (3.1.2)\n",
      "Requirement already satisfied: geoalchemy2 in /media/mutakabbir/HDD_2TB_02/Forest_Fire/federated-learning-framework/.venv/lib/python3.10/site-packages (0.14.4)\n",
      "Requirement already satisfied: python-dotenv in /media/mutakabbir/HDD_2TB_02/Forest_Fire/federated-learning-framework/.venv/lib/python3.10/site-packages (1.0.1)\n",
      "Requirement already satisfied: fiona>=1.8.21 in /media/mutakabbir/HDD_2TB_02/Forest_Fire/federated-learning-framework/.venv/lib/python3.10/site-packages (from geopandas) (1.9.5)\n",
      "Requirement already satisfied: packaging in /media/mutakabbir/HDD_2TB_02/Forest_Fire/federated-learning-framework/.venv/lib/python3.10/site-packages (from geopandas) (22.0)\n",
      "Requirement already satisfied: pyproj>=3.3.0 in /media/mutakabbir/HDD_2TB_02/Forest_Fire/federated-learning-framework/.venv/lib/python3.10/site-packages (from geopandas) (3.6.1)\n",
      "Requirement already satisfied: shapely>=1.8.0 in /media/mutakabbir/HDD_2TB_02/Forest_Fire/federated-learning-framework/.venv/lib/python3.10/site-packages (from geopandas) (2.0.2)\n",
      "Requirement already satisfied: numpy<2,>=1.22.4 in /media/mutakabbir/HDD_2TB_02/Forest_Fire/federated-learning-framework/.venv/lib/python3.10/site-packages (from pandas) (1.26.4)\n",
      "Requirement already satisfied: python-dateutil>=2.8.2 in /media/mutakabbir/HDD_2TB_02/Forest_Fire/federated-learning-framework/.venv/lib/python3.10/site-packages (from pandas) (2.8.2)\n",
      "Requirement already satisfied: pytz>=2020.1 in /media/mutakabbir/HDD_2TB_02/Forest_Fire/federated-learning-framework/.venv/lib/python3.10/site-packages (from pandas) (2023.4)\n",
      "Requirement already satisfied: tzdata>=2022.7 in /media/mutakabbir/HDD_2TB_02/Forest_Fire/federated-learning-framework/.venv/lib/python3.10/site-packages (from pandas) (2024.1)\n",
      "Requirement already satisfied: typing-extensions>=4.6.0 in /media/mutakabbir/HDD_2TB_02/Forest_Fire/federated-learning-framework/.venv/lib/python3.10/site-packages (from sqlalchemy) (4.9.0)\n",
      "Requirement already satisfied: greenlet!=0.4.17 in /media/mutakabbir/HDD_2TB_02/Forest_Fire/federated-learning-framework/.venv/lib/python3.10/site-packages (from sqlalchemy) (3.0.3)\n",
      "Requirement already satisfied: et-xmlfile in /media/mutakabbir/HDD_2TB_02/Forest_Fire/federated-learning-framework/.venv/lib/python3.10/site-packages (from openpyxl) (1.1.0)\n",
      "Requirement already satisfied: attrs>=19.2.0 in /media/mutakabbir/HDD_2TB_02/Forest_Fire/federated-learning-framework/.venv/lib/python3.10/site-packages (from fiona>=1.8.21->geopandas) (23.2.0)\n",
      "Requirement already satisfied: certifi in /media/mutakabbir/HDD_2TB_02/Forest_Fire/federated-learning-framework/.venv/lib/python3.10/site-packages (from fiona>=1.8.21->geopandas) (2024.2.2)\n",
      "Requirement already satisfied: click~=8.0 in /media/mutakabbir/HDD_2TB_02/Forest_Fire/federated-learning-framework/.venv/lib/python3.10/site-packages (from fiona>=1.8.21->geopandas) (8.1.7)\n",
      "Requirement already satisfied: click-plugins>=1.0 in /media/mutakabbir/HDD_2TB_02/Forest_Fire/federated-learning-framework/.venv/lib/python3.10/site-packages (from fiona>=1.8.21->geopandas) (1.1.1)\n",
      "Requirement already satisfied: cligj>=0.5 in /media/mutakabbir/HDD_2TB_02/Forest_Fire/federated-learning-framework/.venv/lib/python3.10/site-packages (from fiona>=1.8.21->geopandas) (0.7.2)\n",
      "Requirement already satisfied: six in /media/mutakabbir/HDD_2TB_02/Forest_Fire/federated-learning-framework/.venv/lib/python3.10/site-packages (from fiona>=1.8.21->geopandas) (1.16.0)\n",
      "Requirement already satisfied: setuptools in /media/mutakabbir/HDD_2TB_02/Forest_Fire/federated-learning-framework/.venv/lib/python3.10/site-packages (from fiona>=1.8.21->geopandas) (69.1.0)\n"
     ]
    }
   ],
   "source": [
    "! pip install geopandas pandas sqlalchemy psycopg2-binary openpyxl geoalchemy2 python-dotenv"
   ]
  },
  {
   "cell_type": "code",
   "execution_count": 1,
   "metadata": {},
   "outputs": [],
   "source": [
    "from sqlalchemy import create_engine \n",
    "import geopandas as gpd\n",
    "from shapely.ops import nearest_points\n",
    "\n",
    "import os\n",
    "from dotenv import load_dotenv"
   ]
  },
  {
   "cell_type": "markdown",
   "metadata": {},
   "source": [
    "# Create Database Connection"
   ]
  },
  {
   "cell_type": "code",
   "execution_count": 2,
   "metadata": {},
   "outputs": [],
   "source": [
    "PATH_TO_DOT_ENV = \"../../.env\"\n",
    "\n",
    "DATABASE_TYPE = \"postgresql\"\n",
    "DATABASE_HOST = \"localhost\""
   ]
  },
  {
   "cell_type": "code",
   "execution_count": 3,
   "metadata": {},
   "outputs": [],
   "source": [
    "load_dotenv(PATH_TO_DOT_ENV)\n",
    "\n",
    "DATABASE_NAME = os.environ.get(\"DATABASE_NAME\")\n",
    "POSTGRES_USER = os.environ.get(\"POSTGRES_USER\")\n",
    "POSTGRES_PASSWORD = os.environ.get(\"POSTGRES_PASSWORD\")\n",
    "POSTGRES_HOST_PORT = os.environ.get(\"POSTGRES_HOST_PORT\")\n",
    "POSTGRES_CONTAINER_PORT = os.environ.get(\"POSTGRES_CONTAINER_PORT\")"
   ]
  },
  {
   "cell_type": "code",
   "execution_count": 4,
   "metadata": {},
   "outputs": [],
   "source": [
    "engine = create_engine(f\"{DATABASE_TYPE}://{POSTGRES_USER}:{POSTGRES_PASSWORD}@{DATABASE_HOST}:{POSTGRES_HOST_PORT}/{DATABASE_NAME}\")"
   ]
  },
  {
   "cell_type": "markdown",
   "metadata": {},
   "source": [
    "## Database Constants"
   ]
  },
  {
   "cell_type": "code",
   "execution_count": 5,
   "metadata": {},
   "outputs": [],
   "source": [
    "CWEEDS_META_TABLE_NAME = \"W_m\"\n",
    "CWEEDS_META_SUBDIVISION_TABLE = \"W_ms\"\n",
    "SUBDIVISION_TABLE_NAME = \"S\""
   ]
  },
  {
   "cell_type": "code",
   "execution_count": 6,
   "metadata": {},
   "outputs": [],
   "source": [
    "subdivision_query = f\"\"\"select s.cid, s.geometry from \"{SUBDIVISION_TABLE_NAME}\" s\"\"\"\n",
    "cweeds_mata_query = f\"\"\"select wm.\"climate_ID\", wm.first_yr, wm.last_yr, wm.geometry from \"{CWEEDS_META_TABLE_NAME}\" wm\"\"\""
   ]
  },
  {
   "cell_type": "markdown",
   "metadata": {},
   "source": [
    "# Read station and division data"
   ]
  },
  {
   "cell_type": "code",
   "execution_count": 7,
   "metadata": {},
   "outputs": [],
   "source": [
    "division_df = gpd.read_postgis(\n",
    "    sql=subdivision_query, \n",
    "    con=engine,\n",
    "    geom_col=\"geometry\",\n",
    "    crs=\"EPSG:4326\"\n",
    ")  \n",
    "# division_ddf = dgpd.from_geopandas(division_df, npartitions=N_PARTISIONS)\n",
    "# del division_df"
   ]
  },
  {
   "cell_type": "code",
   "execution_count": 8,
   "metadata": {},
   "outputs": [],
   "source": [
    "cweeds_meta_df = gpd.read_postgis(\n",
    "    sql=cweeds_mata_query, \n",
    "    con=engine,\n",
    "    geom_col=\"geometry\",\n",
    "    crs=\"EPSG:4326\"\n",
    ")  \n",
    "# cweeds_meta_ddf = dgpd.from_geopandas(cweeds_meta_df, npartitions=N_PARTISIONS)\n",
    "# del cweeds_meta_df"
   ]
  },
  {
   "cell_type": "markdown",
   "metadata": {},
   "source": [
    "# Find all the staions in division"
   ]
  },
  {
   "cell_type": "code",
   "execution_count": 9,
   "metadata": {},
   "outputs": [],
   "source": [
    "stations_in_subdivision = gpd.sjoin(\n",
    "    cweeds_meta_df,\n",
    "    division_df,\n",
    "    how=\"inner\",\n",
    "    predicate=\"within\").drop(\"index_right\", axis=1)"
   ]
  },
  {
   "cell_type": "code",
   "execution_count": 10,
   "metadata": {},
   "outputs": [],
   "source": [
    "stations_in_subdivision.rename({\n",
    "    'cid': 'division_id'\n",
    "    },\n",
    "    axis=1,\n",
    "    inplace=True)"
   ]
  },
  {
   "cell_type": "code",
   "execution_count": 14,
   "metadata": {},
   "outputs": [
    {
     "data": {
      "text/html": [
       "<div>\n",
       "<style scoped>\n",
       "    .dataframe tbody tr th:only-of-type {\n",
       "        vertical-align: middle;\n",
       "    }\n",
       "\n",
       "    .dataframe tbody tr th {\n",
       "        vertical-align: top;\n",
       "    }\n",
       "\n",
       "    .dataframe thead th {\n",
       "        text-align: right;\n",
       "    }\n",
       "</style>\n",
       "<table border=\"1\" class=\"dataframe\">\n",
       "  <thead>\n",
       "    <tr style=\"text-align: right;\">\n",
       "      <th></th>\n",
       "      <th>climate_ID</th>\n",
       "      <th>first_yr</th>\n",
       "      <th>last_yr</th>\n",
       "      <th>geometry</th>\n",
       "      <th>division_id</th>\n",
       "    </tr>\n",
       "  </thead>\n",
       "  <tbody>\n",
       "    <tr>\n",
       "      <th>0</th>\n",
       "      <td>3010010</td>\n",
       "      <td>2003</td>\n",
       "      <td>2017</td>\n",
       "      <td>POINT (-112.97000 54.28000)</td>\n",
       "      <td>72</td>\n",
       "    </tr>\n",
       "    <tr>\n",
       "      <th>1</th>\n",
       "      <td>3010237</td>\n",
       "      <td>2003</td>\n",
       "      <td>2017</td>\n",
       "      <td>POINT (-112.28000 53.92000)</td>\n",
       "      <td>72</td>\n",
       "    </tr>\n",
       "    <tr>\n",
       "      <th>2</th>\n",
       "      <td>3060406</td>\n",
       "      <td>2003</td>\n",
       "      <td>2017</td>\n",
       "      <td>POINT (-112.82000 54.78000)</td>\n",
       "      <td>72</td>\n",
       "    </tr>\n",
       "    <tr>\n",
       "      <th>3</th>\n",
       "      <td>3050519</td>\n",
       "      <td>1998</td>\n",
       "      <td>2017</td>\n",
       "      <td>POINT (-115.55000 51.19000)</td>\n",
       "      <td>72</td>\n",
       "    </tr>\n",
       "    <tr>\n",
       "      <th>4</th>\n",
       "      <td>3030525</td>\n",
       "      <td>2003</td>\n",
       "      <td>2017</td>\n",
       "      <td>POINT (-112.30000 49.80000)</td>\n",
       "      <td>72</td>\n",
       "    </tr>\n",
       "    <tr>\n",
       "      <th>...</th>\n",
       "      <td>...</td>\n",
       "      <td>...</td>\n",
       "      <td>...</td>\n",
       "      <td>...</td>\n",
       "      <td>...</td>\n",
       "    </tr>\n",
       "    <tr>\n",
       "      <th>559</th>\n",
       "      <td>2100805</td>\n",
       "      <td>2005</td>\n",
       "      <td>2017</td>\n",
       "      <td>POINT (-139.84000 67.57000)</td>\n",
       "      <td>0</td>\n",
       "    </tr>\n",
       "    <tr>\n",
       "      <th>560</th>\n",
       "      <td>2100935</td>\n",
       "      <td>2007</td>\n",
       "      <td>2017</td>\n",
       "      <td>POINT (-136.22000 66.98000)</td>\n",
       "      <td>0</td>\n",
       "    </tr>\n",
       "    <tr>\n",
       "      <th>561</th>\n",
       "      <td>2101102</td>\n",
       "      <td>2005</td>\n",
       "      <td>2017</td>\n",
       "      <td>POINT (-132.73000 60.17000)</td>\n",
       "      <td>0</td>\n",
       "    </tr>\n",
       "    <tr>\n",
       "      <th>562</th>\n",
       "      <td>2101201</td>\n",
       "      <td>2005</td>\n",
       "      <td>2017</td>\n",
       "      <td>POINT (-128.82000 60.12000)</td>\n",
       "      <td>0</td>\n",
       "    </tr>\n",
       "    <tr>\n",
       "      <th>563</th>\n",
       "      <td>2101303</td>\n",
       "      <td>2005</td>\n",
       "      <td>2017</td>\n",
       "      <td>POINT (-135.07000 60.71000)</td>\n",
       "      <td>0</td>\n",
       "    </tr>\n",
       "  </tbody>\n",
       "</table>\n",
       "<p>409 rows × 5 columns</p>\n",
       "</div>"
      ],
      "text/plain": [
       "    climate_ID  first_yr  last_yr                     geometry  division_id\n",
       "0      3010010      2003     2017  POINT (-112.97000 54.28000)           72\n",
       "1      3010237      2003     2017  POINT (-112.28000 53.92000)           72\n",
       "2      3060406      2003     2017  POINT (-112.82000 54.78000)           72\n",
       "3      3050519      1998     2017  POINT (-115.55000 51.19000)           72\n",
       "4      3030525      2003     2017  POINT (-112.30000 49.80000)           72\n",
       "..         ...       ...      ...                          ...          ...\n",
       "559    2100805      2005     2017  POINT (-139.84000 67.57000)            0\n",
       "560    2100935      2007     2017  POINT (-136.22000 66.98000)            0\n",
       "561    2101102      2005     2017  POINT (-132.73000 60.17000)            0\n",
       "562    2101201      2005     2017  POINT (-128.82000 60.12000)            0\n",
       "563    2101303      2005     2017  POINT (-135.07000 60.71000)            0\n",
       "\n",
       "[409 rows x 5 columns]"
      ]
     },
     "execution_count": 14,
     "metadata": {},
     "output_type": "execute_result"
    }
   ],
   "source": [
    "stations_in_subdivision"
   ]
  },
  {
   "cell_type": "code",
   "execution_count": 15,
   "metadata": {},
   "outputs": [],
   "source": [
    "stations_in_subdivision.to_postgis(\n",
    "    name=CWEEDS_META_SUBDIVISION_TABLE, \n",
    "    con=engine, \n",
    "    if_exists='replace', \n",
    "    index=False\n",
    ")"
   ]
  },
  {
   "cell_type": "code",
   "execution_count": 16,
   "metadata": {},
   "outputs": [],
   "source": [
    "stations_in_subdivision = stations_in_subdivision.groupby(\"division_id\").agg(lambda group: set(group))"
   ]
  },
  {
   "cell_type": "code",
   "execution_count": 14,
   "metadata": {},
   "outputs": [],
   "source": [
    "# stations_in_subdivision.apply(lambda row: len(row.climate_ID), axis=1).plot(kind='hist',bins=35,figsize=(25, 5))"
   ]
  },
  {
   "cell_type": "code",
   "execution_count": 17,
   "metadata": {},
   "outputs": [
    {
     "name": "stdout",
     "output_type": "stream",
     "text": [
      "stations found 19\n"
     ]
    }
   ],
   "source": [
    "divisions_with_station = stations_in_subdivision.index.to_list()\n",
    "print(f\"stations found {len(divisions_with_station)}\")"
   ]
  },
  {
   "cell_type": "markdown",
   "metadata": {},
   "source": [
    "# Find the nearest station for division with no stations"
   ]
  },
  {
   "cell_type": "code",
   "execution_count": 20,
   "metadata": {},
   "outputs": [
    {
     "data": {
      "text/html": [
       "<div>\n",
       "<style scoped>\n",
       "    .dataframe tbody tr th:only-of-type {\n",
       "        vertical-align: middle;\n",
       "    }\n",
       "\n",
       "    .dataframe tbody tr th {\n",
       "        vertical-align: top;\n",
       "    }\n",
       "\n",
       "    .dataframe thead th {\n",
       "        text-align: right;\n",
       "    }\n",
       "</style>\n",
       "<table border=\"1\" class=\"dataframe\">\n",
       "  <thead>\n",
       "    <tr style=\"text-align: right;\">\n",
       "      <th></th>\n",
       "      <th>cid</th>\n",
       "      <th>geometry</th>\n",
       "    </tr>\n",
       "  </thead>\n",
       "  <tbody>\n",
       "  </tbody>\n",
       "</table>\n",
       "</div>"
      ],
      "text/plain": [
       "Empty GeoDataFrame\n",
       "Columns: [cid, geometry]\n",
       "Index: []"
      ]
     },
     "execution_count": 20,
     "metadata": {},
     "output_type": "execute_result"
    }
   ],
   "source": [
    "division_with_no_stations = division_df[~division_df[\"cid\"].isin(divisions_with_station)]\n",
    "division_with_no_stations"
   ]
  },
  {
   "cell_type": "markdown",
   "metadata": {},
   "source": [
    "# if found divisions with no stations run below code "
   ]
  },
  {
   "cell_type": "code",
   "execution_count": 17,
   "metadata": {},
   "outputs": [],
   "source": [
    "def get_nearest_station_id(division):\n",
    "    divison_id = division.FEDUID\n",
    "    division_geomaetry = division.geometry\n",
    "    _, nearest_point = nearest_points(division_geomaetry.centroid, cweeds_meta_df.geometry.unary_union)\n",
    "    station_id = cweeds_meta_df.loc[cweeds_meta_df['geometry'] == nearest_point].climate_ID.values[0]\n",
    "    return station_id"
   ]
  },
  {
   "cell_type": "code",
   "execution_count": 18,
   "metadata": {},
   "outputs": [],
   "source": [
    "# division_with_no_stations['climate_ID'] = division_with_no_stations.apply(get_nearest_station_id, axis=1)"
   ]
  },
  {
   "cell_type": "code",
   "execution_count": 19,
   "metadata": {},
   "outputs": [],
   "source": [
    "# division_with_no_stations[['FEDUID','climate_ID']].to_sql(name=TABLE_NAME, con=engine, if_exists='append', index=False)"
   ]
  },
  {
   "cell_type": "markdown",
   "metadata": {},
   "source": [
    "# Add Primary Key to Table"
   ]
  },
  {
   "cell_type": "code",
   "execution_count": 23,
   "metadata": {},
   "outputs": [],
   "source": [
    "with engine.connect() as con:\n",
    "    con.execute(f'ALTER TABLE \"{CWEEDS_META_SUBDIVISION_TABLE}\" ADD PRIMARY KEY (\"division_id\", \"climate_ID\");')"
   ]
  },
  {
   "cell_type": "code",
   "execution_count": null,
   "metadata": {},
   "outputs": [],
   "source": []
  }
 ],
 "metadata": {
  "kernelspec": {
   "display_name": ".venv",
   "language": "python",
   "name": "python3"
  },
  "language_info": {
   "codemirror_mode": {
    "name": "ipython",
    "version": 3
   },
   "file_extension": ".py",
   "mimetype": "text/x-python",
   "name": "python",
   "nbconvert_exporter": "python",
   "pygments_lexer": "ipython3",
   "version": "3.10.12"
  },
  "orig_nbformat": 4
 },
 "nbformat": 4,
 "nbformat_minor": 2
}
