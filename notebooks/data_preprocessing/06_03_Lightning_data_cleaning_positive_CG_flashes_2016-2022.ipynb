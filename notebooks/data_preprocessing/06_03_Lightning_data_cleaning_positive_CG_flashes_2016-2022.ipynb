{
 "cells": [
  {
   "cell_type": "code",
   "execution_count": 1,
   "id": "6338ebc1",
   "metadata": {},
   "outputs": [],
   "source": [
    "# %pip install geopandas pandas sqlalchemy psycopg2-binary openpyxl geoalchemy2 python-dotenv tqdm"
   ]
  },
  {
   "cell_type": "markdown",
   "id": "63087f62",
   "metadata": {},
   "source": [
    "# Import Block"
   ]
  },
  {
   "cell_type": "code",
   "execution_count": 2,
   "id": "5f137780",
   "metadata": {},
   "outputs": [],
   "source": [
    "import pandas as pd\n",
    "import geopandas as gpd\n",
    "from sqlalchemy import create_engine\n",
    "\n",
    "import os\n",
    "from tqdm import tqdm \n",
    "from dotenv import load_dotenv"
   ]
  },
  {
   "cell_type": "markdown",
   "id": "baace29c",
   "metadata": {},
   "source": [
    "# Global Constants"
   ]
  },
  {
   "cell_type": "code",
   "execution_count": 3,
   "id": "9a8f61c9",
   "metadata": {},
   "outputs": [],
   "source": [
    "PREPROCESSED_POSITIVE_FLASHES_2016_2022 = \"../../data/lighting/porcessed_lightning_csv/2016-2022-positive-cg-flashes.csv\"\n",
    "PATH_TO_DOT_ENV = \"../../.env\"\n",
    "\n",
    "LIGHTNING_COLUMNS = [\"date\",\"time\",\"lat\",\"long\",\"event_strength_kiloamperes\",\"chi_square\",\"major_axies_confidence\",\"minor_axies_confidence\",\"angle_of_confidence\",\"multiplicity\",\"cloud_or_ground\",\"na\"]\n",
    "\n",
    "START_YEAR = 2016\n",
    "END_YEAR = 2022\n",
    "START_MONTH = 1\n",
    "END_MONTH = 12\n",
    "\n",
    "DATABASE_TYPE = \"postgresql\"\n",
    "DATABASE_HOST = \"localhost\"\n",
    "\n",
    "LIGHTNING_TABLE_NAME = \"L\"\n",
    "CANADIAN_BOUNDARY_TABLE_NAME = \"C\""
   ]
  },
  {
   "cell_type": "code",
   "execution_count": 4,
   "id": "71241ff0",
   "metadata": {},
   "outputs": [],
   "source": [
    "load_dotenv(PATH_TO_DOT_ENV)\n",
    "\n",
    "DATABASE_NAME = os.environ.get(\"DATABASE_NAME\")\n",
    "POSTGRES_USER = os.environ.get(\"POSTGRES_USER\")\n",
    "POSTGRES_PASSWORD = os.environ.get(\"POSTGRES_PASSWORD\")\n",
    "POSTGRES_HOST_PORT = os.environ.get(\"POSTGRES_HOST_PORT\")\n",
    "POSTGRES_CONTAINER_PORT = os.environ.get(\"POSTGRES_CONTAINER_PORT\")"
   ]
  },
  {
   "cell_type": "code",
   "execution_count": 5,
   "id": "900e89d2",
   "metadata": {},
   "outputs": [],
   "source": [
    "engine = create_engine(f\"{DATABASE_TYPE}://{POSTGRES_USER}:{POSTGRES_PASSWORD}@{DATABASE_HOST}:{POSTGRES_HOST_PORT}/{DATABASE_NAME}\")"
   ]
  },
  {
   "cell_type": "markdown",
   "id": "c8e51b99",
   "metadata": {},
   "source": [
    "# Helper Functions"
   ]
  },
  {
   "cell_type": "code",
   "execution_count": 6,
   "id": "e3a5d77a",
   "metadata": {},
   "outputs": [],
   "source": [
    "def dataset_location(year:int, month:int): \n",
    "    month_str = str(month) if month >= 10 else f\"0{month}\"\n",
    "    year_str = str(year)\n",
    "    return f\"../../data/lighting/2016-2022-raw/{year_str}{month_str}f.txt\"\n"
   ]
  },
  {
   "cell_type": "markdown",
   "id": "2753b495",
   "metadata": {},
   "source": [
    "## Load Canadian geometry for filtering"
   ]
  },
  {
   "cell_type": "code",
   "execution_count": 7,
   "id": "db0d4b47",
   "metadata": {},
   "outputs": [],
   "source": [
    "query_canada_boundary = f\"\"\"SELECT * from \"{CANADIAN_BOUNDARY_TABLE_NAME}\" \"\"\"\n",
    "\n",
    "canada_gdf = gpd.read_postgis(\n",
    "    sql=query_canada_boundary, \n",
    "    con=engine, \n",
    "    geom_col=\"geometry\", \n",
    "    crs=\"EPSG:4326\"\n",
    ")"
   ]
  },
  {
   "cell_type": "markdown",
   "id": "530fb762",
   "metadata": {},
   "source": [
    "## Filtering and merging lightining data"
   ]
  },
  {
   "cell_type": "code",
   "execution_count": 8,
   "id": "c02a0873",
   "metadata": {
    "scrolled": false
   },
   "outputs": [
    {
     "name": "stderr",
     "output_type": "stream",
     "text": [
      "2016:   0%|          | 0/12 [00:00<?, ?it/s]"
     ]
    },
    {
     "name": "stderr",
     "output_type": "stream",
     "text": [
      "2016: 100%|██████████| 12/12 [29:10<00:00, 145.90s/it, ../../data/lighting/2016-2022-raw/201612f.txt]\n",
      "2017: 100%|██████████| 12/12 [30:26<00:00, 152.24s/it, ../../data/lighting/2016-2022-raw/201712f.txt]\n",
      "2018: 100%|██████████| 12/12 [35:26<00:00, 177.25s/it, ../../data/lighting/2016-2022-raw/201812f.txt]\n",
      "2019: 100%|██████████| 12/12 [29:30<00:00, 147.51s/it, ../../data/lighting/2016-2022-raw/201912f.txt]\n",
      "2020: 100%|██████████| 12/12 [29:32<00:00, 147.73s/it, ../../data/lighting/2016-2022-raw/202012f.txt]\n",
      "2021: 100%|██████████| 12/12 [29:32<00:00, 147.68s/it, ../../data/lighting/2016-2022-raw/202112f.txt]\n",
      "2022: 100%|██████████| 12/12 [14:45<00:00, 73.76s/it, ../../data/lighting/2016-2022-raw/202212f.txt]\n"
     ]
    },
    {
     "name": "stdout",
     "output_type": "stream",
     "text": [
      "No Data for YEAR: 2022 MONTH: 7 --> [Errno 2] No such file or directory: '../../data/lighting/2016-2022-raw/202207f.txt'\n",
      "No Data for YEAR: 2022 MONTH: 8 --> [Errno 2] No such file or directory: '../../data/lighting/2016-2022-raw/202208f.txt'\n",
      "No Data for YEAR: 2022 MONTH: 9 --> [Errno 2] No such file or directory: '../../data/lighting/2016-2022-raw/202209f.txt'\n",
      "No Data for YEAR: 2022 MONTH: 10 --> [Errno 2] No such file or directory: '../../data/lighting/2016-2022-raw/202210f.txt'\n",
      "No Data for YEAR: 2022 MONTH: 11 --> [Errno 2] No such file or directory: '../../data/lighting/2016-2022-raw/202211f.txt'\n",
      "No Data for YEAR: 2022 MONTH: 12 --> [Errno 2] No such file or directory: '../../data/lighting/2016-2022-raw/202212f.txt'\n",
      "Finished building positive lighting flashes geo data!!!\n"
     ]
    }
   ],
   "source": [
    "lighting_df = []\n",
    "\n",
    "for year in range(START_YEAR, END_YEAR + 1):\n",
    "\n",
    "    lightning_year_data_progress_bar= tqdm(\n",
    "        range(START_MONTH, END_MONTH + 1),\n",
    "        desc = f\"{year}\"\n",
    "    )\n",
    "\n",
    "    for month in lightning_year_data_progress_bar:\n",
    "\n",
    "        lightning_csv_path = dataset_location(year, month)\n",
    "       \n",
    "        try:\n",
    "            month_lighting_data = pd.read_csv(\n",
    "                lightning_csv_path, \n",
    "                sep=\" \", \n",
    "                header=None, \n",
    "                names=LIGHTNING_COLUMNS\n",
    "            )\n",
    "            \n",
    "            filtered_lightning_df = month_lighting_data[(month_lighting_data['event_strength_kiloamperes'] >= 0) & (month_lighting_data['cloud_or_ground'] == 'G')]\n",
    "            \n",
    "            if len(filtered_lightning_df) > 0:\n",
    "                geo_lighting = gpd.GeoDataFrame(\n",
    "                    filtered_lightning_df[['date','time','event_strength_kiloamperes','multiplicity']],\n",
    "                    crs=\"EPSG:4326\",\n",
    "                    geometry=gpd.points_from_xy(filtered_lightning_df.long, filtered_lightning_df.lat))\n",
    "                del filtered_lightning_df\n",
    "                canada_lightning = geo_lighting.clip(canada_gdf)\n",
    "                del geo_lighting\n",
    "                lighting_df.append(canada_lightning)\n",
    "                del canada_lightning\n",
    "            else:\n",
    "                print(f\"No Data for MONTH: {month}\")\n",
    "            del month_lighting_data\n",
    "        except Exception as e:\n",
    "            print(f\"No Data for YEAR: {year} MONTH: {month} --> {e}\")\n",
    "\n",
    "        lightning_year_data_progress_bar.set_postfix_str(lightning_csv_path)\n",
    "    \n",
    "positive_flashes_gpd = pd.concat(lighting_df)\n",
    "positive_flashes_gpd.reset_index(drop=True, inplace=True)\n",
    "del lighting_df\n",
    "print(f\"Finished building positive lighting flashes geo data!!!\")"
   ]
  },
  {
   "cell_type": "code",
   "execution_count": 9,
   "id": "d1970f5c",
   "metadata": {},
   "outputs": [
    {
     "data": {
      "text/html": [
       "<div>\n",
       "<style scoped>\n",
       "    .dataframe tbody tr th:only-of-type {\n",
       "        vertical-align: middle;\n",
       "    }\n",
       "\n",
       "    .dataframe tbody tr th {\n",
       "        vertical-align: top;\n",
       "    }\n",
       "\n",
       "    .dataframe thead th {\n",
       "        text-align: right;\n",
       "    }\n",
       "</style>\n",
       "<table border=\"1\" class=\"dataframe\">\n",
       "  <thead>\n",
       "    <tr style=\"text-align: right;\">\n",
       "      <th></th>\n",
       "      <th>date</th>\n",
       "      <th>time</th>\n",
       "      <th>event_strength_kiloamperes</th>\n",
       "      <th>multiplicity</th>\n",
       "      <th>geometry</th>\n",
       "    </tr>\n",
       "  </thead>\n",
       "  <tbody>\n",
       "    <tr>\n",
       "      <th>0</th>\n",
       "      <td>2016-01-17</td>\n",
       "      <td>23:11:09.950952548</td>\n",
       "      <td>20.1</td>\n",
       "      <td>1</td>\n",
       "      <td>POINT (-76.32870 44.28670)</td>\n",
       "    </tr>\n",
       "    <tr>\n",
       "      <th>1</th>\n",
       "      <td>2016-01-30</td>\n",
       "      <td>05:17:00.281329752</td>\n",
       "      <td>346.2</td>\n",
       "      <td>1</td>\n",
       "      <td>POINT (-124.93310 49.01510)</td>\n",
       "    </tr>\n",
       "    <tr>\n",
       "      <th>2</th>\n",
       "      <td>2016-01-30</td>\n",
       "      <td>04:36:45.432085524</td>\n",
       "      <td>60.8</td>\n",
       "      <td>1</td>\n",
       "      <td>POINT (-125.92340 49.33560)</td>\n",
       "    </tr>\n",
       "    <tr>\n",
       "      <th>3</th>\n",
       "      <td>2016-01-30</td>\n",
       "      <td>04:26:50.139326144</td>\n",
       "      <td>44.0</td>\n",
       "      <td>1</td>\n",
       "      <td>POINT (-126.50690 49.81860)</td>\n",
       "    </tr>\n",
       "    <tr>\n",
       "      <th>4</th>\n",
       "      <td>2016-01-30</td>\n",
       "      <td>05:12:30.572452623</td>\n",
       "      <td>296.3</td>\n",
       "      <td>1</td>\n",
       "      <td>POINT (-124.21370 48.54420)</td>\n",
       "    </tr>\n",
       "  </tbody>\n",
       "</table>\n",
       "</div>"
      ],
      "text/plain": [
       "         date                time  event_strength_kiloamperes  multiplicity  \\\n",
       "0  2016-01-17  23:11:09.950952548                        20.1             1   \n",
       "1  2016-01-30  05:17:00.281329752                       346.2             1   \n",
       "2  2016-01-30  04:36:45.432085524                        60.8             1   \n",
       "3  2016-01-30  04:26:50.139326144                        44.0             1   \n",
       "4  2016-01-30  05:12:30.572452623                       296.3             1   \n",
       "\n",
       "                      geometry  \n",
       "0   POINT (-76.32870 44.28670)  \n",
       "1  POINT (-124.93310 49.01510)  \n",
       "2  POINT (-125.92340 49.33560)  \n",
       "3  POINT (-126.50690 49.81860)  \n",
       "4  POINT (-124.21370 48.54420)  "
      ]
     },
     "execution_count": 9,
     "metadata": {},
     "output_type": "execute_result"
    }
   ],
   "source": [
    "positive_flashes_gpd.head()"
   ]
  },
  {
   "cell_type": "code",
   "execution_count": 10,
   "id": "916e27e5",
   "metadata": {},
   "outputs": [
    {
     "data": {
      "text/plain": [
       "(3588201, 5)"
      ]
     },
     "execution_count": 10,
     "metadata": {},
     "output_type": "execute_result"
    }
   ],
   "source": [
    "positive_flashes_gpd.shape"
   ]
  },
  {
   "cell_type": "markdown",
   "id": "b70d17df",
   "metadata": {},
   "source": [
    "## Adding timeing information"
   ]
  },
  {
   "cell_type": "code",
   "execution_count": 11,
   "id": "c0dd0a78",
   "metadata": {},
   "outputs": [],
   "source": [
    "positive_flashes_gpd['timestamp'] = positive_flashes_gpd.apply(lambda row: f\"{row.date} {row.time}\", axis=1)\n",
    "positive_flashes_gpd[\"timestamp\"] = pd.to_datetime(positive_flashes_gpd[\"timestamp\"])"
   ]
  },
  {
   "cell_type": "code",
   "execution_count": 12,
   "id": "e08068c8",
   "metadata": {
    "scrolled": true
   },
   "outputs": [
    {
     "data": {
      "text/html": [
       "<div>\n",
       "<style scoped>\n",
       "    .dataframe tbody tr th:only-of-type {\n",
       "        vertical-align: middle;\n",
       "    }\n",
       "\n",
       "    .dataframe tbody tr th {\n",
       "        vertical-align: top;\n",
       "    }\n",
       "\n",
       "    .dataframe thead th {\n",
       "        text-align: right;\n",
       "    }\n",
       "</style>\n",
       "<table border=\"1\" class=\"dataframe\">\n",
       "  <thead>\n",
       "    <tr style=\"text-align: right;\">\n",
       "      <th></th>\n",
       "      <th>event_strength_kiloamperes</th>\n",
       "      <th>multiplicity</th>\n",
       "      <th>geometry</th>\n",
       "      <th>timestamp</th>\n",
       "    </tr>\n",
       "  </thead>\n",
       "  <tbody>\n",
       "    <tr>\n",
       "      <th>0</th>\n",
       "      <td>20.1</td>\n",
       "      <td>1</td>\n",
       "      <td>POINT (-76.32870 44.28670)</td>\n",
       "      <td>2016-01-17 23:11:09.950952548</td>\n",
       "    </tr>\n",
       "    <tr>\n",
       "      <th>1</th>\n",
       "      <td>346.2</td>\n",
       "      <td>1</td>\n",
       "      <td>POINT (-124.93310 49.01510)</td>\n",
       "      <td>2016-01-30 05:17:00.281329752</td>\n",
       "    </tr>\n",
       "    <tr>\n",
       "      <th>2</th>\n",
       "      <td>60.8</td>\n",
       "      <td>1</td>\n",
       "      <td>POINT (-125.92340 49.33560)</td>\n",
       "      <td>2016-01-30 04:36:45.432085524</td>\n",
       "    </tr>\n",
       "    <tr>\n",
       "      <th>3</th>\n",
       "      <td>44.0</td>\n",
       "      <td>1</td>\n",
       "      <td>POINT (-126.50690 49.81860)</td>\n",
       "      <td>2016-01-30 04:26:50.139326144</td>\n",
       "    </tr>\n",
       "    <tr>\n",
       "      <th>4</th>\n",
       "      <td>296.3</td>\n",
       "      <td>1</td>\n",
       "      <td>POINT (-124.21370 48.54420)</td>\n",
       "      <td>2016-01-30 05:12:30.572452623</td>\n",
       "    </tr>\n",
       "  </tbody>\n",
       "</table>\n",
       "</div>"
      ],
      "text/plain": [
       "   event_strength_kiloamperes  multiplicity                     geometry  \\\n",
       "0                        20.1             1   POINT (-76.32870 44.28670)   \n",
       "1                       346.2             1  POINT (-124.93310 49.01510)   \n",
       "2                        60.8             1  POINT (-125.92340 49.33560)   \n",
       "3                        44.0             1  POINT (-126.50690 49.81860)   \n",
       "4                       296.3             1  POINT (-124.21370 48.54420)   \n",
       "\n",
       "                      timestamp  \n",
       "0 2016-01-17 23:11:09.950952548  \n",
       "1 2016-01-30 05:17:00.281329752  \n",
       "2 2016-01-30 04:36:45.432085524  \n",
       "3 2016-01-30 04:26:50.139326144  \n",
       "4 2016-01-30 05:12:30.572452623  "
      ]
     },
     "execution_count": 12,
     "metadata": {},
     "output_type": "execute_result"
    }
   ],
   "source": [
    "positive_flashes_gpd = positive_flashes_gpd.drop(['date','time'], axis=1)\n",
    "positive_flashes_gpd.head()"
   ]
  },
  {
   "cell_type": "code",
   "execution_count": 13,
   "id": "f77fcbce",
   "metadata": {},
   "outputs": [],
   "source": [
    "# store a CSV cache\n",
    "positive_flashes_gpd.to_csv(PREPROCESSED_POSITIVE_FLASHES_2016_2022)"
   ]
  },
  {
   "cell_type": "code",
   "execution_count": null,
   "id": "970c7ea8",
   "metadata": {},
   "outputs": [],
   "source": [
    "# Store in DB\n",
    "positive_flashes_gpd.to_postgis(\n",
    "    name=LIGHTNING_TABLE_NAME, \n",
    "    con=engine, \n",
    "    if_exists='append', \n",
    "    index=True\n",
    ")"
   ]
  },
  {
   "cell_type": "code",
   "execution_count": null,
   "id": "ba06ee64",
   "metadata": {},
   "outputs": [],
   "source": []
  }
 ],
 "metadata": {
  "kernelspec": {
   "display_name": ".venv",
   "language": "python",
   "name": "python3"
  },
  "language_info": {
   "codemirror_mode": {
    "name": "ipython",
    "version": 3
   },
   "file_extension": ".py",
   "mimetype": "text/x-python",
   "name": "python",
   "nbconvert_exporter": "python",
   "pygments_lexer": "ipython3",
   "version": "3.10.12"
  }
 },
 "nbformat": 4,
 "nbformat_minor": 5
}
