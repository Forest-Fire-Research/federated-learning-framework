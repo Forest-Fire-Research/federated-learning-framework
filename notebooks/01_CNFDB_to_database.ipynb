{
 "cells": [
  {
   "cell_type": "code",
   "execution_count": 1,
   "metadata": {},
   "outputs": [
    {
     "name": "stdout",
     "output_type": "stream",
     "text": [
      "Requirement already satisfied: geopandas in /media/mutakabbir/HDD_2TB_01/Forest_Fire/.venv/lib/python3.10/site-packages (0.14.3)\n",
      "Requirement already satisfied: pandas in /media/mutakabbir/HDD_2TB_01/Forest_Fire/.venv/lib/python3.10/site-packages (1.5.0)\n",
      "Requirement already satisfied: sqlalchemy in /media/mutakabbir/HDD_2TB_01/Forest_Fire/.venv/lib/python3.10/site-packages (1.4.41)\n",
      "Requirement already satisfied: psycopg2-binary in /media/mutakabbir/HDD_2TB_01/Forest_Fire/.venv/lib/python3.10/site-packages (2.9.9)\n",
      "Requirement already satisfied: openpyxl in /media/mutakabbir/HDD_2TB_01/Forest_Fire/.venv/lib/python3.10/site-packages (3.1.2)\n",
      "Requirement already satisfied: geoalchemy2 in /media/mutakabbir/HDD_2TB_01/Forest_Fire/.venv/lib/python3.10/site-packages (0.14.3)\n",
      "Requirement already satisfied: python-dotenv in /media/mutakabbir/HDD_2TB_01/Forest_Fire/.venv/lib/python3.10/site-packages (1.0.1)\n",
      "Requirement already satisfied: fiona>=1.8.21 in /media/mutakabbir/HDD_2TB_01/Forest_Fire/.venv/lib/python3.10/site-packages (from geopandas) (1.9.5)\n",
      "Requirement already satisfied: packaging in /media/mutakabbir/HDD_2TB_01/Forest_Fire/.venv/lib/python3.10/site-packages (from geopandas) (21.3)\n",
      "Requirement already satisfied: pyproj>=3.3.0 in /media/mutakabbir/HDD_2TB_01/Forest_Fire/.venv/lib/python3.10/site-packages (from geopandas) (3.6.1)\n",
      "Requirement already satisfied: shapely>=1.8.0 in /media/mutakabbir/HDD_2TB_01/Forest_Fire/.venv/lib/python3.10/site-packages (from geopandas) (2.0.2)\n",
      "Requirement already satisfied: python-dateutil>=2.8.1 in /media/mutakabbir/HDD_2TB_01/Forest_Fire/.venv/lib/python3.10/site-packages (from pandas) (2.8.2)\n",
      "Requirement already satisfied: pytz>=2020.1 in /media/mutakabbir/HDD_2TB_01/Forest_Fire/.venv/lib/python3.10/site-packages (from pandas) (2022.2.1)\n",
      "Requirement already satisfied: numpy>=1.21.0 in /media/mutakabbir/HDD_2TB_01/Forest_Fire/.venv/lib/python3.10/site-packages (from pandas) (1.23.3)\n",
      "Requirement already satisfied: greenlet!=0.4.17 in /media/mutakabbir/HDD_2TB_01/Forest_Fire/.venv/lib/python3.10/site-packages (from sqlalchemy) (1.1.3)\n",
      "Requirement already satisfied: et-xmlfile in /media/mutakabbir/HDD_2TB_01/Forest_Fire/.venv/lib/python3.10/site-packages (from openpyxl) (1.1.0)\n",
      "Requirement already satisfied: attrs>=19.2.0 in /media/mutakabbir/HDD_2TB_01/Forest_Fire/.venv/lib/python3.10/site-packages (from fiona>=1.8.21->geopandas) (23.2.0)\n",
      "Requirement already satisfied: certifi in /media/mutakabbir/HDD_2TB_01/Forest_Fire/.venv/lib/python3.10/site-packages (from fiona>=1.8.21->geopandas) (2022.9.14)\n",
      "Requirement already satisfied: click~=8.0 in /media/mutakabbir/HDD_2TB_01/Forest_Fire/.venv/lib/python3.10/site-packages (from fiona>=1.8.21->geopandas) (8.1.3)\n",
      "Requirement already satisfied: click-plugins>=1.0 in /media/mutakabbir/HDD_2TB_01/Forest_Fire/.venv/lib/python3.10/site-packages (from fiona>=1.8.21->geopandas) (1.1.1)\n",
      "Requirement already satisfied: cligj>=0.5 in /media/mutakabbir/HDD_2TB_01/Forest_Fire/.venv/lib/python3.10/site-packages (from fiona>=1.8.21->geopandas) (0.7.2)\n",
      "Requirement already satisfied: six in /media/mutakabbir/HDD_2TB_01/Forest_Fire/.venv/lib/python3.10/site-packages (from fiona>=1.8.21->geopandas) (1.16.0)\n",
      "Requirement already satisfied: setuptools in /media/mutakabbir/HDD_2TB_01/Forest_Fire/.venv/lib/python3.10/site-packages (from fiona>=1.8.21->geopandas) (69.0.3)\n",
      "Requirement already satisfied: pyparsing!=3.0.5,>=2.0.2 in /media/mutakabbir/HDD_2TB_01/Forest_Fire/.venv/lib/python3.10/site-packages (from packaging->geopandas) (3.0.9)\n"
     ]
    }
   ],
   "source": [
    "! pip install geopandas pandas sqlalchemy psycopg2-binary openpyxl geoalchemy2 python-dotenv"
   ]
  },
  {
   "cell_type": "code",
   "execution_count": 2,
   "metadata": {},
   "outputs": [],
   "source": [
    "import pandas as pd\n",
    "import geopandas as gpd\n",
    "from sqlalchemy import create_engine, TIMESTAMP\n",
    "\n",
    "import os\n",
    "from dotenv import load_dotenv"
   ]
  },
  {
   "cell_type": "code",
   "execution_count": 3,
   "metadata": {},
   "outputs": [],
   "source": [
    "CNFDB_SHPAEFLIE_PATH = \"../../data/fire/NFDB_poly.zip\"\n",
    "PATH_TO_DOT_ENV = \"../.env\"\n",
    "\n",
    "DATABASE_TYPE = \"postgresql\"\n",
    "DATABASE_HOST = \"localhost\"\n",
    "\n",
    "CNFDB_TABLE_NAME = \"F\""
   ]
  },
  {
   "cell_type": "code",
   "execution_count": 4,
   "metadata": {},
   "outputs": [],
   "source": [
    "load_dotenv(PATH_TO_DOT_ENV)\n",
    "\n",
    "DATABASE_NAME = os.environ.get(\"DATABASE_NAME\")\n",
    "POSTGRES_USER = os.environ.get(\"POSTGRES_USER\")\n",
    "POSTGRES_PASSWORD = os.environ.get(\"POSTGRES_PASSWORD\")\n",
    "POSTGRES_HOST_PORT = os.environ.get(\"POSTGRES_HOST_PORT\")\n",
    "POSTGRES_CONTAINER_PORT = os.environ.get(\"POSTGRES_CONTAINER_PORT\")"
   ]
  },
  {
   "cell_type": "code",
   "execution_count": 5,
   "metadata": {},
   "outputs": [],
   "source": [
    "engine = create_engine(f\"{DATABASE_TYPE}://{POSTGRES_USER}:{POSTGRES_PASSWORD}@{DATABASE_HOST}:{POSTGRES_HOST_PORT}/{DATABASE_NAME}\")"
   ]
  },
  {
   "cell_type": "code",
   "execution_count": 6,
   "metadata": {},
   "outputs": [],
   "source": [
    "sql_dtypes = {\n",
    "    \"REP_DATE\": TIMESTAMP,\n",
    "    \"ACQ_DATE\": TIMESTAMP,\n",
    "    \"POLY_DATE\": TIMESTAMP,\n",
    "}"
   ]
  },
  {
   "cell_type": "code",
   "execution_count": 7,
   "metadata": {},
   "outputs": [
    {
     "name": "stdout",
     "output_type": "stream",
     "text": [
      "CPU times: user 1min 35s, sys: 1.31 s, total: 1min 36s\n",
      "Wall time: 1min 36s\n"
     ]
    }
   ],
   "source": [
    "%%time\n",
    "fire_gdf = gpd.read_file(CNFDB_SHPAEFLIE_PATH)\n",
    "fire_gdf = fire_gdf.to_crs(\"EPSG:4326\")"
   ]
  },
  {
   "cell_type": "code",
   "execution_count": 8,
   "metadata": {},
   "outputs": [],
   "source": [
    "# convert to datetime\n",
    "fire_gdf['REP_DATE'] = pd.to_datetime(fire_gdf['REP_DATE'], format='%Y-%m-%d')\n",
    "fire_gdf['ACQ_DATE'] = pd.to_datetime(fire_gdf['ACQ_DATE'], format='%Y-%m-%d')\n",
    "fire_gdf['POLY_DATE'] = pd.to_datetime(fire_gdf['POLY_DATE'], format='%Y-%m-%d')"
   ]
  },
  {
   "cell_type": "code",
   "execution_count": 9,
   "metadata": {},
   "outputs": [],
   "source": [
    "# filter to only lighting \n",
    "fire_gdf = fire_gdf[fire_gdf[\"CAUSE\"] == 'L']"
   ]
  },
  {
   "cell_type": "code",
   "execution_count": 10,
   "metadata": {},
   "outputs": [],
   "source": [
    "# drop duplicates\n",
    "fire_gdf.drop_duplicates(inplace=True)"
   ]
  },
  {
   "cell_type": "code",
   "execution_count": 11,
   "metadata": {},
   "outputs": [
    {
     "name": "stdout",
     "output_type": "stream",
     "text": [
      "CPU times: user 48 s, sys: 2.89 s, total: 50.9 s\n",
      "Wall time: 1min 33s\n"
     ]
    }
   ],
   "source": [
    "%%time\n",
    "fire_gdf.to_postgis(name=CNFDB_TABLE_NAME, con=engine, if_exists='replace', index=False, dtype=sql_dtypes)"
   ]
  },
  {
   "cell_type": "code",
   "execution_count": null,
   "metadata": {},
   "outputs": [],
   "source": []
  }
 ],
 "metadata": {
  "kernelspec": {
   "display_name": ".venv",
   "language": "python",
   "name": "python3"
  },
  "language_info": {
   "codemirror_mode": {
    "name": "ipython",
    "version": 3
   },
   "file_extension": ".py",
   "mimetype": "text/x-python",
   "name": "python",
   "nbconvert_exporter": "python",
   "pygments_lexer": "ipython3",
   "version": "3.10.12"
  },
  "orig_nbformat": 4
 },
 "nbformat": 4,
 "nbformat_minor": 2
}
