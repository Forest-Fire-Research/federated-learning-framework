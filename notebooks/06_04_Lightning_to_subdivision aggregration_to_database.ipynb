{
 "cells": [
  {
   "cell_type": "code",
   "execution_count": 2,
   "metadata": {},
   "outputs": [
    {
     "name": "stdout",
     "output_type": "stream",
     "text": [
      "Requirement already satisfied: geopandas in /media/mutakabbir/HDD_2TB_02/Forest_Fire/.venv/lib/python3.10/site-packages (0.14.3)\n",
      "Requirement already satisfied: pandas in /media/mutakabbir/HDD_2TB_02/Forest_Fire/.venv/lib/python3.10/site-packages (1.5.0)\n",
      "Requirement already satisfied: sqlalchemy in /media/mutakabbir/HDD_2TB_02/Forest_Fire/.venv/lib/python3.10/site-packages (1.4.41)\n",
      "Requirement already satisfied: psycopg2-binary in /media/mutakabbir/HDD_2TB_02/Forest_Fire/.venv/lib/python3.10/site-packages (2.9.9)\n",
      "Requirement already satisfied: openpyxl in /media/mutakabbir/HDD_2TB_02/Forest_Fire/.venv/lib/python3.10/site-packages (3.1.2)\n",
      "Requirement already satisfied: geoalchemy2 in /media/mutakabbir/HDD_2TB_02/Forest_Fire/.venv/lib/python3.10/site-packages (0.14.3)\n",
      "Requirement already satisfied: python-dotenv in /media/mutakabbir/HDD_2TB_02/Forest_Fire/.venv/lib/python3.10/site-packages (1.0.1)\n",
      "Requirement already satisfied: tqdm in /media/mutakabbir/HDD_2TB_02/Forest_Fire/.venv/lib/python3.10/site-packages (4.66.1)\n",
      "Requirement already satisfied: fiona>=1.8.21 in /media/mutakabbir/HDD_2TB_02/Forest_Fire/.venv/lib/python3.10/site-packages (from geopandas) (1.9.5)\n",
      "Requirement already satisfied: packaging in /media/mutakabbir/HDD_2TB_02/Forest_Fire/.venv/lib/python3.10/site-packages (from geopandas) (21.3)\n",
      "Requirement already satisfied: pyproj>=3.3.0 in /media/mutakabbir/HDD_2TB_02/Forest_Fire/.venv/lib/python3.10/site-packages (from geopandas) (3.6.1)\n",
      "Requirement already satisfied: shapely>=1.8.0 in /media/mutakabbir/HDD_2TB_02/Forest_Fire/.venv/lib/python3.10/site-packages (from geopandas) (2.0.2)\n",
      "Requirement already satisfied: python-dateutil>=2.8.1 in /media/mutakabbir/HDD_2TB_02/Forest_Fire/.venv/lib/python3.10/site-packages (from pandas) (2.8.2)\n",
      "Requirement already satisfied: pytz>=2020.1 in /media/mutakabbir/HDD_2TB_02/Forest_Fire/.venv/lib/python3.10/site-packages (from pandas) (2022.2.1)\n",
      "Requirement already satisfied: numpy>=1.21.0 in /media/mutakabbir/HDD_2TB_02/Forest_Fire/.venv/lib/python3.10/site-packages (from pandas) (1.23.3)\n",
      "Requirement already satisfied: greenlet!=0.4.17 in /media/mutakabbir/HDD_2TB_02/Forest_Fire/.venv/lib/python3.10/site-packages (from sqlalchemy) (1.1.3)\n",
      "Requirement already satisfied: et-xmlfile in /media/mutakabbir/HDD_2TB_02/Forest_Fire/.venv/lib/python3.10/site-packages (from openpyxl) (1.1.0)\n",
      "Requirement already satisfied: attrs>=19.2.0 in /media/mutakabbir/HDD_2TB_02/Forest_Fire/.venv/lib/python3.10/site-packages (from fiona>=1.8.21->geopandas) (23.2.0)\n",
      "Requirement already satisfied: certifi in /media/mutakabbir/HDD_2TB_02/Forest_Fire/.venv/lib/python3.10/site-packages (from fiona>=1.8.21->geopandas) (2022.9.14)\n",
      "Requirement already satisfied: click~=8.0 in /media/mutakabbir/HDD_2TB_02/Forest_Fire/.venv/lib/python3.10/site-packages (from fiona>=1.8.21->geopandas) (8.1.3)\n",
      "Requirement already satisfied: click-plugins>=1.0 in /media/mutakabbir/HDD_2TB_02/Forest_Fire/.venv/lib/python3.10/site-packages (from fiona>=1.8.21->geopandas) (1.1.1)\n",
      "Requirement already satisfied: cligj>=0.5 in /media/mutakabbir/HDD_2TB_02/Forest_Fire/.venv/lib/python3.10/site-packages (from fiona>=1.8.21->geopandas) (0.7.2)\n",
      "Requirement already satisfied: six in /media/mutakabbir/HDD_2TB_02/Forest_Fire/.venv/lib/python3.10/site-packages (from fiona>=1.8.21->geopandas) (1.16.0)\n",
      "Requirement already satisfied: setuptools in /media/mutakabbir/HDD_2TB_02/Forest_Fire/.venv/lib/python3.10/site-packages (from fiona>=1.8.21->geopandas) (69.0.3)\n",
      "Requirement already satisfied: pyparsing!=3.0.5,>=2.0.2 in /media/mutakabbir/HDD_2TB_02/Forest_Fire/.venv/lib/python3.10/site-packages (from packaging->geopandas) (3.0.9)\n",
      "Note: you may need to restart the kernel to use updated packages.\n"
     ]
    }
   ],
   "source": [
    "%pip install geopandas pandas sqlalchemy psycopg2-binary openpyxl geoalchemy2 python-dotenv"
   ]
  },
  {
   "cell_type": "code",
   "execution_count": 4,
   "metadata": {},
   "outputs": [],
   "source": [
    "from sqlalchemy import create_engine \n",
    "import geopandas as gpd\n",
    "import pandas as pd\n",
    "\n",
    "import os\n",
    "from dotenv import load_dotenv"
   ]
  },
  {
   "cell_type": "code",
   "execution_count": 6,
   "metadata": {},
   "outputs": [],
   "source": [
    "PATH_TO_DOT_ENV = \"../.env\"\n",
    "\n",
    "DATABASE_TYPE = \"postgresql\"\n",
    "DATABASE_HOST = \"localhost\"\n",
    "\n",
    "LIGHTNING_TABLE_NAME = \"L\"\n",
    "SUBDIVISON_TABLE_NAME = \"S\"\n",
    "LIGHTNING_SUBDIVISION_AGGREGRATION_TABLE_NAME = \"L_s\""
   ]
  },
  {
   "cell_type": "code",
   "execution_count": 8,
   "metadata": {},
   "outputs": [],
   "source": [
    "load_dotenv(PATH_TO_DOT_ENV)\n",
    "\n",
    "DATABASE_NAME = os.environ.get(\"DATABASE_NAME\")\n",
    "POSTGRES_USER = os.environ.get(\"POSTGRES_USER\")\n",
    "POSTGRES_PASSWORD = os.environ.get(\"POSTGRES_PASSWORD\")\n",
    "POSTGRES_HOST_PORT = os.environ.get(\"POSTGRES_HOST_PORT\")\n",
    "POSTGRES_CONTAINER_PORT = os.environ.get(\"POSTGRES_CONTAINER_PORT\")"
   ]
  },
  {
   "cell_type": "code",
   "execution_count": 9,
   "metadata": {},
   "outputs": [],
   "source": [
    "engine = create_engine(f\"{DATABASE_TYPE}://{POSTGRES_USER}:{POSTGRES_PASSWORD}@{DATABASE_HOST}:{POSTGRES_HOST_PORT}/{DATABASE_NAME}\")"
   ]
  },
  {
   "cell_type": "code",
   "execution_count": 29,
   "metadata": {},
   "outputs": [],
   "source": [
    "query_lightning = f\"\"\"select * from \"{LIGHTNING_TABLE_NAME}\" l \"\"\"\n",
    "query_subdivision = f\"\"\"select * from \"{SUBDIVISON_TABLE_NAME}\" s \"\"\"\n",
    "\n",
    "add_cluster_id_index = f\"\"\"create index if not exists idx_cluster_id on \"{LIGHTNING_SUBDIVISION_AGGREGRATION_TABLE_NAME}\" (division_id)\"\"\"\n",
    "add_cluster_datetime_index = f\"\"\"create index if not exists idx_cluster_time on \"{LIGHTNING_SUBDIVISION_AGGREGRATION_TABLE_NAME}\" (timestamp)\"\"\""
   ]
  },
  {
   "cell_type": "code",
   "execution_count": 10,
   "metadata": {},
   "outputs": [],
   "source": [
    "lightning_gdf = gpd.read_postgis(\n",
    "    sql=query_lightning, \n",
    "    con=engine,\n",
    "    geom_col=\"geometry\",\n",
    "    crs=\"EPSG:4326\"\n",
    ")"
   ]
  },
  {
   "cell_type": "code",
   "execution_count": 13,
   "metadata": {},
   "outputs": [],
   "source": [
    "subdivision_gdf = gpd.read_postgis(\n",
    "    sql=query_subdivision, \n",
    "    con=engine,\n",
    "    geom_col=\"geometry\",\n",
    "    crs=\"EPSG:4326\"\n",
    ")"
   ]
  },
  {
   "cell_type": "code",
   "execution_count": 14,
   "metadata": {},
   "outputs": [
    {
     "data": {
      "text/plain": [
       "7659443"
      ]
     },
     "execution_count": 14,
     "metadata": {},
     "output_type": "execute_result"
    }
   ],
   "source": [
    "len(lightning_gdf)"
   ]
  },
  {
   "cell_type": "code",
   "execution_count": 15,
   "metadata": {},
   "outputs": [],
   "source": [
    "lightning_gdf.drop_duplicates(inplace=True, ignore_index=True)"
   ]
  },
  {
   "cell_type": "code",
   "execution_count": 16,
   "metadata": {},
   "outputs": [
    {
     "data": {
      "text/plain": [
       "7659443"
      ]
     },
     "execution_count": 16,
     "metadata": {},
     "output_type": "execute_result"
    }
   ],
   "source": [
    "len(lightning_gdf)"
   ]
  },
  {
   "cell_type": "code",
   "execution_count": 17,
   "metadata": {},
   "outputs": [
    {
     "data": {
      "text/plain": [
       "19"
      ]
     },
     "execution_count": 17,
     "metadata": {},
     "output_type": "execute_result"
    }
   ],
   "source": [
    "len(subdivision_gdf)"
   ]
  },
  {
   "cell_type": "code",
   "execution_count": 18,
   "metadata": {},
   "outputs": [
    {
     "name": "stderr",
     "output_type": "stream",
     "text": [
      "/media/mutakabbir/HDD_2TB_02/Forest_Fire/.venv/lib/python3.10/site-packages/IPython/core/interactiveshell.py:3493: FutureWarning: The `op` parameter is deprecated and will be removed in a future release. Please use the `predicate` parameter instead.\n",
      "  if await self.run_code(code, result, async_=asy):\n"
     ]
    }
   ],
   "source": [
    "division_lightning_gdf = gpd.sjoin(lightning_gdf, subdivision_gdf, how='inner',op='within') "
   ]
  },
  {
   "cell_type": "code",
   "execution_count": 20,
   "metadata": {},
   "outputs": [
    {
     "data": {
      "text/html": [
       "<div>\n",
       "<style scoped>\n",
       "    .dataframe tbody tr th:only-of-type {\n",
       "        vertical-align: middle;\n",
       "    }\n",
       "\n",
       "    .dataframe tbody tr th {\n",
       "        vertical-align: top;\n",
       "    }\n",
       "\n",
       "    .dataframe thead th {\n",
       "        text-align: right;\n",
       "    }\n",
       "</style>\n",
       "<table border=\"1\" class=\"dataframe\">\n",
       "  <thead>\n",
       "    <tr style=\"text-align: right;\">\n",
       "      <th></th>\n",
       "      <th>index</th>\n",
       "      <th>event_strength_kiloamperes</th>\n",
       "      <th>multiplicity</th>\n",
       "      <th>timestamp</th>\n",
       "      <th>geometry</th>\n",
       "      <th>index_right</th>\n",
       "      <th>cid</th>\n",
       "    </tr>\n",
       "  </thead>\n",
       "  <tbody>\n",
       "    <tr>\n",
       "      <th>0</th>\n",
       "      <td>2091302</td>\n",
       "      <td>27.8</td>\n",
       "      <td>1</td>\n",
       "      <td>2020-01-04 02:24:45.435503</td>\n",
       "      <td>POINT (-126.45540 51.65900)</td>\n",
       "      <td>16</td>\n",
       "      <td>71</td>\n",
       "    </tr>\n",
       "    <tr>\n",
       "      <th>33</th>\n",
       "      <td>2091335</td>\n",
       "      <td>146.1</td>\n",
       "      <td>1</td>\n",
       "      <td>2020-02-02 09:44:09.206257</td>\n",
       "      <td>POINT (-127.55540 50.33000)</td>\n",
       "      <td>16</td>\n",
       "      <td>71</td>\n",
       "    </tr>\n",
       "    <tr>\n",
       "      <th>34</th>\n",
       "      <td>2091336</td>\n",
       "      <td>40.5</td>\n",
       "      <td>2</td>\n",
       "      <td>2020-02-02 08:57:49.432394</td>\n",
       "      <td>POINT (-127.80590 50.38300)</td>\n",
       "      <td>16</td>\n",
       "      <td>71</td>\n",
       "    </tr>\n",
       "    <tr>\n",
       "      <th>35</th>\n",
       "      <td>2091337</td>\n",
       "      <td>42.3</td>\n",
       "      <td>1</td>\n",
       "      <td>2020-02-02 07:47:58.341129</td>\n",
       "      <td>POINT (-127.92800 50.53210)</td>\n",
       "      <td>16</td>\n",
       "      <td>71</td>\n",
       "    </tr>\n",
       "    <tr>\n",
       "      <th>36</th>\n",
       "      <td>2091338</td>\n",
       "      <td>79.2</td>\n",
       "      <td>1</td>\n",
       "      <td>2020-02-02 07:51:15.851691</td>\n",
       "      <td>POINT (-127.90200 50.53680)</td>\n",
       "      <td>16</td>\n",
       "      <td>71</td>\n",
       "    </tr>\n",
       "  </tbody>\n",
       "</table>\n",
       "</div>"
      ],
      "text/plain": [
       "      index  event_strength_kiloamperes  multiplicity  \\\n",
       "0   2091302                        27.8             1   \n",
       "33  2091335                       146.1             1   \n",
       "34  2091336                        40.5             2   \n",
       "35  2091337                        42.3             1   \n",
       "36  2091338                        79.2             1   \n",
       "\n",
       "                    timestamp                     geometry  index_right  cid  \n",
       "0  2020-01-04 02:24:45.435503  POINT (-126.45540 51.65900)           16   71  \n",
       "33 2020-02-02 09:44:09.206257  POINT (-127.55540 50.33000)           16   71  \n",
       "34 2020-02-02 08:57:49.432394  POINT (-127.80590 50.38300)           16   71  \n",
       "35 2020-02-02 07:47:58.341129  POINT (-127.92800 50.53210)           16   71  \n",
       "36 2020-02-02 07:51:15.851691  POINT (-127.90200 50.53680)           16   71  "
      ]
     },
     "execution_count": 20,
     "metadata": {},
     "output_type": "execute_result"
    }
   ],
   "source": [
    "division_lightning_gdf.head()"
   ]
  },
  {
   "cell_type": "code",
   "execution_count": 21,
   "metadata": {},
   "outputs": [],
   "source": [
    "cluster_ids = division_lightning_gdf['cid'].unique()\n",
    "\n",
    "division_dfs = []\n",
    "\n",
    "for cluster_id in cluster_ids:\n",
    "    # extract only the cluste information\n",
    "    df = division_lightning_gdf[division_lightning_gdf['cid'] == cluster_id]\n",
    "    # group cluster by time\n",
    "    df = df.groupby([\n",
    "        pd.Grouper(key=\"timestamp\", freq=\"1d\", dropna=False),\n",
    "    ],\n",
    "    ).agg({\n",
    "        'multiplicity': ['sum','min', 'max', 'mean'],\n",
    "        'event_strength_kiloamperes': ['mean', 'min', 'max']\n",
    "    })\n",
    "    # reset index\n",
    "    df.reset_index(inplace=True)\n",
    "    # flattern the row headers\n",
    "    df.columns = [column_name if column_name[-1] != '_' else column_name[:-1] for column_name in [\"_\".join(column_data) for column_data in df.columns]]\n",
    "    # add cluster id\n",
    "    df['division_id'] = cluster_id\n",
    "    # append to dataset list\n",
    "    division_dfs.append(df)\n",
    "\n",
    "division_lightning_gdf = pd.concat(division_dfs)"
   ]
  },
  {
   "cell_type": "code",
   "execution_count": 25,
   "metadata": {},
   "outputs": [],
   "source": [
    "division_lightning_gdf.dropna(inplace=True)"
   ]
  },
  {
   "cell_type": "code",
   "execution_count": 26,
   "metadata": {},
   "outputs": [
    {
     "data": {
      "text/html": [
       "<div>\n",
       "<style scoped>\n",
       "    .dataframe tbody tr th:only-of-type {\n",
       "        vertical-align: middle;\n",
       "    }\n",
       "\n",
       "    .dataframe tbody tr th {\n",
       "        vertical-align: top;\n",
       "    }\n",
       "\n",
       "    .dataframe thead th {\n",
       "        text-align: right;\n",
       "    }\n",
       "</style>\n",
       "<table border=\"1\" class=\"dataframe\">\n",
       "  <thead>\n",
       "    <tr style=\"text-align: right;\">\n",
       "      <th></th>\n",
       "      <th>timestamp</th>\n",
       "      <th>multiplicity_sum</th>\n",
       "      <th>multiplicity_min</th>\n",
       "      <th>multiplicity_max</th>\n",
       "      <th>multiplicity_mean</th>\n",
       "      <th>event_strength_kiloamperes_mean</th>\n",
       "      <th>event_strength_kiloamperes_min</th>\n",
       "      <th>event_strength_kiloamperes_max</th>\n",
       "      <th>division_id</th>\n",
       "    </tr>\n",
       "  </thead>\n",
       "  <tbody>\n",
       "    <tr>\n",
       "      <th>0</th>\n",
       "      <td>1999-02-01</td>\n",
       "      <td>4</td>\n",
       "      <td>1.0</td>\n",
       "      <td>1.0</td>\n",
       "      <td>1.000000</td>\n",
       "      <td>39.575000</td>\n",
       "      <td>22.6</td>\n",
       "      <td>70.4</td>\n",
       "      <td>71</td>\n",
       "    </tr>\n",
       "    <tr>\n",
       "      <th>3</th>\n",
       "      <td>1999-02-04</td>\n",
       "      <td>1</td>\n",
       "      <td>1.0</td>\n",
       "      <td>1.0</td>\n",
       "      <td>1.000000</td>\n",
       "      <td>80.300000</td>\n",
       "      <td>80.3</td>\n",
       "      <td>80.3</td>\n",
       "      <td>71</td>\n",
       "    </tr>\n",
       "    <tr>\n",
       "      <th>4</th>\n",
       "      <td>1999-02-05</td>\n",
       "      <td>4</td>\n",
       "      <td>1.0</td>\n",
       "      <td>1.0</td>\n",
       "      <td>1.000000</td>\n",
       "      <td>86.500000</td>\n",
       "      <td>24.9</td>\n",
       "      <td>191.1</td>\n",
       "      <td>71</td>\n",
       "    </tr>\n",
       "    <tr>\n",
       "      <th>5</th>\n",
       "      <td>1999-02-06</td>\n",
       "      <td>7</td>\n",
       "      <td>1.0</td>\n",
       "      <td>2.0</td>\n",
       "      <td>1.166667</td>\n",
       "      <td>82.033333</td>\n",
       "      <td>39.1</td>\n",
       "      <td>120.2</td>\n",
       "      <td>71</td>\n",
       "    </tr>\n",
       "    <tr>\n",
       "      <th>8</th>\n",
       "      <td>1999-02-09</td>\n",
       "      <td>2</td>\n",
       "      <td>1.0</td>\n",
       "      <td>1.0</td>\n",
       "      <td>1.000000</td>\n",
       "      <td>39.000000</td>\n",
       "      <td>17.6</td>\n",
       "      <td>60.4</td>\n",
       "      <td>71</td>\n",
       "    </tr>\n",
       "    <tr>\n",
       "      <th>...</th>\n",
       "      <td>...</td>\n",
       "      <td>...</td>\n",
       "      <td>...</td>\n",
       "      <td>...</td>\n",
       "      <td>...</td>\n",
       "      <td>...</td>\n",
       "      <td>...</td>\n",
       "      <td>...</td>\n",
       "      <td>...</td>\n",
       "    </tr>\n",
       "    <tr>\n",
       "      <th>8489</th>\n",
       "      <td>2022-06-25</td>\n",
       "      <td>411</td>\n",
       "      <td>1.0</td>\n",
       "      <td>4.0</td>\n",
       "      <td>1.090186</td>\n",
       "      <td>32.107427</td>\n",
       "      <td>5.4</td>\n",
       "      <td>177.1</td>\n",
       "      <td>29</td>\n",
       "    </tr>\n",
       "    <tr>\n",
       "      <th>8490</th>\n",
       "      <td>2022-06-26</td>\n",
       "      <td>19</td>\n",
       "      <td>1.0</td>\n",
       "      <td>2.0</td>\n",
       "      <td>1.266667</td>\n",
       "      <td>30.473333</td>\n",
       "      <td>10.3</td>\n",
       "      <td>110.5</td>\n",
       "      <td>29</td>\n",
       "    </tr>\n",
       "    <tr>\n",
       "      <th>8491</th>\n",
       "      <td>2022-06-27</td>\n",
       "      <td>904</td>\n",
       "      <td>1.0</td>\n",
       "      <td>5.0</td>\n",
       "      <td>1.177083</td>\n",
       "      <td>32.875130</td>\n",
       "      <td>5.1</td>\n",
       "      <td>272.1</td>\n",
       "      <td>29</td>\n",
       "    </tr>\n",
       "    <tr>\n",
       "      <th>8492</th>\n",
       "      <td>2022-06-28</td>\n",
       "      <td>194</td>\n",
       "      <td>1.0</td>\n",
       "      <td>4.0</td>\n",
       "      <td>1.141176</td>\n",
       "      <td>36.043529</td>\n",
       "      <td>3.5</td>\n",
       "      <td>255.6</td>\n",
       "      <td>29</td>\n",
       "    </tr>\n",
       "    <tr>\n",
       "      <th>8494</th>\n",
       "      <td>2022-06-30</td>\n",
       "      <td>156</td>\n",
       "      <td>1.0</td>\n",
       "      <td>3.0</td>\n",
       "      <td>1.114286</td>\n",
       "      <td>39.868571</td>\n",
       "      <td>8.0</td>\n",
       "      <td>181.7</td>\n",
       "      <td>29</td>\n",
       "    </tr>\n",
       "  </tbody>\n",
       "</table>\n",
       "<p>48182 rows × 9 columns</p>\n",
       "</div>"
      ],
      "text/plain": [
       "      timestamp  multiplicity_sum  multiplicity_min  multiplicity_max  \\\n",
       "0    1999-02-01                 4               1.0               1.0   \n",
       "3    1999-02-04                 1               1.0               1.0   \n",
       "4    1999-02-05                 4               1.0               1.0   \n",
       "5    1999-02-06                 7               1.0               2.0   \n",
       "8    1999-02-09                 2               1.0               1.0   \n",
       "...         ...               ...               ...               ...   \n",
       "8489 2022-06-25               411               1.0               4.0   \n",
       "8490 2022-06-26                19               1.0               2.0   \n",
       "8491 2022-06-27               904               1.0               5.0   \n",
       "8492 2022-06-28               194               1.0               4.0   \n",
       "8494 2022-06-30               156               1.0               3.0   \n",
       "\n",
       "      multiplicity_mean  event_strength_kiloamperes_mean  \\\n",
       "0              1.000000                        39.575000   \n",
       "3              1.000000                        80.300000   \n",
       "4              1.000000                        86.500000   \n",
       "5              1.166667                        82.033333   \n",
       "8              1.000000                        39.000000   \n",
       "...                 ...                              ...   \n",
       "8489           1.090186                        32.107427   \n",
       "8490           1.266667                        30.473333   \n",
       "8491           1.177083                        32.875130   \n",
       "8492           1.141176                        36.043529   \n",
       "8494           1.114286                        39.868571   \n",
       "\n",
       "      event_strength_kiloamperes_min  event_strength_kiloamperes_max  \\\n",
       "0                               22.6                            70.4   \n",
       "3                               80.3                            80.3   \n",
       "4                               24.9                           191.1   \n",
       "5                               39.1                           120.2   \n",
       "8                               17.6                            60.4   \n",
       "...                              ...                             ...   \n",
       "8489                             5.4                           177.1   \n",
       "8490                            10.3                           110.5   \n",
       "8491                             5.1                           272.1   \n",
       "8492                             3.5                           255.6   \n",
       "8494                             8.0                           181.7   \n",
       "\n",
       "      division_id  \n",
       "0              71  \n",
       "3              71  \n",
       "4              71  \n",
       "5              71  \n",
       "8              71  \n",
       "...           ...  \n",
       "8489           29  \n",
       "8490           29  \n",
       "8491           29  \n",
       "8492           29  \n",
       "8494           29  \n",
       "\n",
       "[48182 rows x 9 columns]"
      ]
     },
     "execution_count": 26,
     "metadata": {},
     "output_type": "execute_result"
    }
   ],
   "source": [
    "division_lightning_gdf"
   ]
  },
  {
   "cell_type": "code",
   "execution_count": 30,
   "metadata": {},
   "outputs": [
    {
     "data": {
      "text/plain": [
       "182"
      ]
     },
     "execution_count": 30,
     "metadata": {},
     "output_type": "execute_result"
    }
   ],
   "source": [
    "division_lightning_gdf.to_sql(\n",
    "    name=LIGHTNING_SUBDIVISION_AGGREGRATION_TABLE_NAME, \n",
    "    con=engine, \n",
    "    if_exists='replace', \n",
    "    index=False\n",
    ")"
   ]
  },
  {
   "cell_type": "code",
   "execution_count": 31,
   "metadata": {},
   "outputs": [],
   "source": [
    "with engine.connect() as con:\n",
    "    con.execute(add_cluster_id_index)\n",
    "    con.execute(add_cluster_datetime_index)"
   ]
  },
  {
   "cell_type": "code",
   "execution_count": null,
   "metadata": {},
   "outputs": [],
   "source": []
  }
 ],
 "metadata": {
  "kernelspec": {
   "display_name": ".venv",
   "language": "python",
   "name": "python3"
  },
  "language_info": {
   "codemirror_mode": {
    "name": "ipython",
    "version": 3
   },
   "file_extension": ".py",
   "mimetype": "text/x-python",
   "name": "python",
   "nbconvert_exporter": "python",
   "pygments_lexer": "ipython3",
   "version": "3.10.12"
  },
  "orig_nbformat": 4
 },
 "nbformat": 4,
 "nbformat_minor": 2
}
