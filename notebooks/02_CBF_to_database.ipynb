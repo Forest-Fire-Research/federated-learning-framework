{
 "cells": [
  {
   "cell_type": "code",
   "execution_count": 1,
   "metadata": {},
   "outputs": [
    {
     "name": "stdout",
     "output_type": "stream",
     "text": [
      "Requirement already satisfied: geopandas in /media/mutakabbir/HDD_2TB_01/Forest_Fire/.venv/lib/python3.10/site-packages (0.14.3)\n",
      "Requirement already satisfied: pandas in /media/mutakabbir/HDD_2TB_01/Forest_Fire/.venv/lib/python3.10/site-packages (1.5.0)\n",
      "Requirement already satisfied: sqlalchemy in /media/mutakabbir/HDD_2TB_01/Forest_Fire/.venv/lib/python3.10/site-packages (1.4.41)\n",
      "Requirement already satisfied: psycopg2-binary in /media/mutakabbir/HDD_2TB_01/Forest_Fire/.venv/lib/python3.10/site-packages (2.9.9)\n",
      "Requirement already satisfied: openpyxl in /media/mutakabbir/HDD_2TB_01/Forest_Fire/.venv/lib/python3.10/site-packages (3.1.2)\n",
      "Requirement already satisfied: geoalchemy2 in /media/mutakabbir/HDD_2TB_01/Forest_Fire/.venv/lib/python3.10/site-packages (0.14.3)\n",
      "Requirement already satisfied: python-dotenv in /media/mutakabbir/HDD_2TB_01/Forest_Fire/.venv/lib/python3.10/site-packages (1.0.1)\n",
      "Requirement already satisfied: fiona>=1.8.21 in /media/mutakabbir/HDD_2TB_01/Forest_Fire/.venv/lib/python3.10/site-packages (from geopandas) (1.9.5)\n",
      "Requirement already satisfied: packaging in /media/mutakabbir/HDD_2TB_01/Forest_Fire/.venv/lib/python3.10/site-packages (from geopandas) (21.3)\n",
      "Requirement already satisfied: pyproj>=3.3.0 in /media/mutakabbir/HDD_2TB_01/Forest_Fire/.venv/lib/python3.10/site-packages (from geopandas) (3.6.1)\n",
      "Requirement already satisfied: shapely>=1.8.0 in /media/mutakabbir/HDD_2TB_01/Forest_Fire/.venv/lib/python3.10/site-packages (from geopandas) (2.0.2)\n",
      "Requirement already satisfied: python-dateutil>=2.8.1 in /media/mutakabbir/HDD_2TB_01/Forest_Fire/.venv/lib/python3.10/site-packages (from pandas) (2.8.2)\n",
      "Requirement already satisfied: pytz>=2020.1 in /media/mutakabbir/HDD_2TB_01/Forest_Fire/.venv/lib/python3.10/site-packages (from pandas) (2022.2.1)\n",
      "Requirement already satisfied: numpy>=1.21.0 in /media/mutakabbir/HDD_2TB_01/Forest_Fire/.venv/lib/python3.10/site-packages (from pandas) (1.23.3)\n",
      "Requirement already satisfied: greenlet!=0.4.17 in /media/mutakabbir/HDD_2TB_01/Forest_Fire/.venv/lib/python3.10/site-packages (from sqlalchemy) (1.1.3)\n",
      "Requirement already satisfied: et-xmlfile in /media/mutakabbir/HDD_2TB_01/Forest_Fire/.venv/lib/python3.10/site-packages (from openpyxl) (1.1.0)\n",
      "Requirement already satisfied: attrs>=19.2.0 in /media/mutakabbir/HDD_2TB_01/Forest_Fire/.venv/lib/python3.10/site-packages (from fiona>=1.8.21->geopandas) (23.2.0)\n",
      "Requirement already satisfied: certifi in /media/mutakabbir/HDD_2TB_01/Forest_Fire/.venv/lib/python3.10/site-packages (from fiona>=1.8.21->geopandas) (2022.9.14)\n",
      "Requirement already satisfied: click~=8.0 in /media/mutakabbir/HDD_2TB_01/Forest_Fire/.venv/lib/python3.10/site-packages (from fiona>=1.8.21->geopandas) (8.1.3)\n",
      "Requirement already satisfied: click-plugins>=1.0 in /media/mutakabbir/HDD_2TB_01/Forest_Fire/.venv/lib/python3.10/site-packages (from fiona>=1.8.21->geopandas) (1.1.1)\n",
      "Requirement already satisfied: cligj>=0.5 in /media/mutakabbir/HDD_2TB_01/Forest_Fire/.venv/lib/python3.10/site-packages (from fiona>=1.8.21->geopandas) (0.7.2)\n",
      "Requirement already satisfied: six in /media/mutakabbir/HDD_2TB_01/Forest_Fire/.venv/lib/python3.10/site-packages (from fiona>=1.8.21->geopandas) (1.16.0)\n",
      "Requirement already satisfied: setuptools in /media/mutakabbir/HDD_2TB_01/Forest_Fire/.venv/lib/python3.10/site-packages (from fiona>=1.8.21->geopandas) (69.0.3)\n",
      "Requirement already satisfied: pyparsing!=3.0.5,>=2.0.2 in /media/mutakabbir/HDD_2TB_01/Forest_Fire/.venv/lib/python3.10/site-packages (from packaging->geopandas) (3.0.9)\n"
     ]
    }
   ],
   "source": [
    "! pip install geopandas pandas sqlalchemy psycopg2-binary openpyxl geoalchemy2 python-dotenv"
   ]
  },
  {
   "cell_type": "code",
   "execution_count": 2,
   "metadata": {},
   "outputs": [],
   "source": [
    "import geopandas as gpd\n",
    "from sqlalchemy import create_engine\n",
    "\n",
    "import os\n",
    "from dotenv import load_dotenv"
   ]
  },
  {
   "cell_type": "code",
   "execution_count": 3,
   "metadata": {},
   "outputs": [],
   "source": [
    "CBF_SHAPEFILE_PATH = \"../../data/canada/lfed000b21a_e.zip\"\n",
    "PATH_TO_DOT_ENV = \"../.env\"\n",
    "\n",
    "DATABASE_TYPE = \"postgresql\"\n",
    "DATABASE_HOST = \"localhost\"\n",
    "\n",
    "CANADIAN_SUBDIVISON_TABLE_NAME = \"S_c\""
   ]
  },
  {
   "cell_type": "code",
   "execution_count": 4,
   "metadata": {},
   "outputs": [],
   "source": [
    "load_dotenv(PATH_TO_DOT_ENV)\n",
    "\n",
    "DATABASE_NAME = os.environ.get(\"DATABASE_NAME\")\n",
    "POSTGRES_USER = os.environ.get(\"POSTGRES_USER\")\n",
    "POSTGRES_PASSWORD = os.environ.get(\"POSTGRES_PASSWORD\")\n",
    "POSTGRES_HOST_PORT = os.environ.get(\"POSTGRES_HOST_PORT\")\n",
    "POSTGRES_CONTAINER_PORT = os.environ.get(\"POSTGRES_CONTAINER_PORT\")"
   ]
  },
  {
   "cell_type": "code",
   "execution_count": 5,
   "metadata": {},
   "outputs": [],
   "source": [
    "engine = create_engine(f\"{DATABASE_TYPE}://{POSTGRES_USER}:{POSTGRES_PASSWORD}@{DATABASE_HOST}:{POSTGRES_HOST_PORT}/{DATABASE_NAME}\")"
   ]
  },
  {
   "cell_type": "code",
   "execution_count": 6,
   "metadata": {},
   "outputs": [
    {
     "name": "stdout",
     "output_type": "stream",
     "text": [
      "CPU times: user 31.1 s, sys: 773 ms, total: 31.9 s\n",
      "Wall time: 32.1 s\n"
     ]
    }
   ],
   "source": [
    "%%time\n",
    "subdivisions_gpd = gpd.read_file(CBF_SHAPEFILE_PATH)\n",
    "subdivisions_gpd = subdivisions_gpd.to_crs(\"EPSG:4326\")"
   ]
  },
  {
   "cell_type": "code",
   "execution_count": 7,
   "metadata": {},
   "outputs": [],
   "source": [
    "subdivisions_gpd['FEDUID'] = subdivisions_gpd['FEDUID'].astype(int)\n",
    "subdivisions_gpd['PRUID'] = subdivisions_gpd['PRUID'].astype(int)"
   ]
  },
  {
   "cell_type": "code",
   "execution_count": 8,
   "metadata": {},
   "outputs": [],
   "source": [
    "subdivisions_gpd.set_index('FEDUID', inplace=True)"
   ]
  },
  {
   "cell_type": "code",
   "execution_count": 9,
   "metadata": {},
   "outputs": [
    {
     "data": {
      "text/html": [
       "<div>\n",
       "<style scoped>\n",
       "    .dataframe tbody tr th:only-of-type {\n",
       "        vertical-align: middle;\n",
       "    }\n",
       "\n",
       "    .dataframe tbody tr th {\n",
       "        vertical-align: top;\n",
       "    }\n",
       "\n",
       "    .dataframe thead th {\n",
       "        text-align: right;\n",
       "    }\n",
       "</style>\n",
       "<table border=\"1\" class=\"dataframe\">\n",
       "  <thead>\n",
       "    <tr style=\"text-align: right;\">\n",
       "      <th></th>\n",
       "      <th>DGUID</th>\n",
       "      <th>FEDNAME</th>\n",
       "      <th>FEDENAME</th>\n",
       "      <th>FEDFNAME</th>\n",
       "      <th>LANDAREA</th>\n",
       "      <th>PRUID</th>\n",
       "      <th>geometry</th>\n",
       "    </tr>\n",
       "    <tr>\n",
       "      <th>FEDUID</th>\n",
       "      <th></th>\n",
       "      <th></th>\n",
       "      <th></th>\n",
       "      <th></th>\n",
       "      <th></th>\n",
       "      <th></th>\n",
       "      <th></th>\n",
       "    </tr>\n",
       "  </thead>\n",
       "  <tbody>\n",
       "    <tr>\n",
       "      <th>10001</th>\n",
       "      <td>2013A000410001</td>\n",
       "      <td>Avalon</td>\n",
       "      <td>Avalon</td>\n",
       "      <td>Avalon</td>\n",
       "      <td>6357.2457</td>\n",
       "      <td>10</td>\n",
       "      <td>MULTIPOLYGON (((-53.44465 46.67495, -53.44474 ...</td>\n",
       "    </tr>\n",
       "    <tr>\n",
       "      <th>10002</th>\n",
       "      <td>2013A000410002</td>\n",
       "      <td>Bonavista--Burin--Trinity</td>\n",
       "      <td>Bonavista--Burin--Trinity</td>\n",
       "      <td>Bonavista--Burin--Trinity</td>\n",
       "      <td>16529.4593</td>\n",
       "      <td>10</td>\n",
       "      <td>MULTIPOLYGON (((-53.77539 48.71901, -53.77552 ...</td>\n",
       "    </tr>\n",
       "    <tr>\n",
       "      <th>10003</th>\n",
       "      <td>2013A000410003</td>\n",
       "      <td>Coast of Bays--Central--Notre Dame</td>\n",
       "      <td>Coast of Bays--Central--Notre Dame</td>\n",
       "      <td>Coast of Bays--Central--Notre Dame</td>\n",
       "      <td>38674.0098</td>\n",
       "      <td>10</td>\n",
       "      <td>MULTIPOLYGON (((-55.51195 49.45222, -55.51213 ...</td>\n",
       "    </tr>\n",
       "    <tr>\n",
       "      <th>10004</th>\n",
       "      <td>2013A000410004</td>\n",
       "      <td>Labrador</td>\n",
       "      <td>Labrador</td>\n",
       "      <td>Labrador</td>\n",
       "      <td>258539.4032</td>\n",
       "      <td>10</td>\n",
       "      <td>MULTIPOLYGON (((-55.60642 53.43093, -55.60651 ...</td>\n",
       "    </tr>\n",
       "    <tr>\n",
       "      <th>10005</th>\n",
       "      <td>2013A000410005</td>\n",
       "      <td>Long Range Mountains</td>\n",
       "      <td>Long Range Mountains</td>\n",
       "      <td>Long Range Mountains</td>\n",
       "      <td>37319.1682</td>\n",
       "      <td>10</td>\n",
       "      <td>MULTIPOLYGON (((-58.32368 49.25135, -58.32372 ...</td>\n",
       "    </tr>\n",
       "  </tbody>\n",
       "</table>\n",
       "</div>"
      ],
      "text/plain": [
       "                 DGUID                             FEDNAME  \\\n",
       "FEDUID                                                       \n",
       "10001   2013A000410001                              Avalon   \n",
       "10002   2013A000410002           Bonavista--Burin--Trinity   \n",
       "10003   2013A000410003  Coast of Bays--Central--Notre Dame   \n",
       "10004   2013A000410004                            Labrador   \n",
       "10005   2013A000410005                Long Range Mountains   \n",
       "\n",
       "                                  FEDENAME  \\\n",
       "FEDUID                                       \n",
       "10001                               Avalon   \n",
       "10002            Bonavista--Burin--Trinity   \n",
       "10003   Coast of Bays--Central--Notre Dame   \n",
       "10004                             Labrador   \n",
       "10005                 Long Range Mountains   \n",
       "\n",
       "                                  FEDFNAME     LANDAREA  PRUID  \\\n",
       "FEDUID                                                           \n",
       "10001                               Avalon    6357.2457     10   \n",
       "10002            Bonavista--Burin--Trinity   16529.4593     10   \n",
       "10003   Coast of Bays--Central--Notre Dame   38674.0098     10   \n",
       "10004                             Labrador  258539.4032     10   \n",
       "10005                 Long Range Mountains   37319.1682     10   \n",
       "\n",
       "                                                 geometry  \n",
       "FEDUID                                                     \n",
       "10001   MULTIPOLYGON (((-53.44465 46.67495, -53.44474 ...  \n",
       "10002   MULTIPOLYGON (((-53.77539 48.71901, -53.77552 ...  \n",
       "10003   MULTIPOLYGON (((-55.51195 49.45222, -55.51213 ...  \n",
       "10004   MULTIPOLYGON (((-55.60642 53.43093, -55.60651 ...  \n",
       "10005   MULTIPOLYGON (((-58.32368 49.25135, -58.32372 ...  "
      ]
     },
     "execution_count": 9,
     "metadata": {},
     "output_type": "execute_result"
    }
   ],
   "source": [
    "subdivisions_gpd.head()"
   ]
  },
  {
   "cell_type": "code",
   "execution_count": 10,
   "metadata": {},
   "outputs": [
    {
     "name": "stdout",
     "output_type": "stream",
     "text": [
      "CPU times: user 15.5 s, sys: 1.53 s, total: 17.1 s\n",
      "Wall time: 32.6 s\n"
     ]
    }
   ],
   "source": [
    "%%time\n",
    "try:\n",
    "    subdivisions_gpd.to_postgis(name=CANADIAN_SUBDIVISON_TABLE_NAME, con=engine, if_exists='replace', index=True)  \n",
    "except Exception as e:\n",
    "    print(e)\n"
   ]
  },
  {
   "cell_type": "code",
   "execution_count": null,
   "metadata": {},
   "outputs": [],
   "source": []
  }
 ],
 "metadata": {
  "kernelspec": {
   "display_name": ".venv",
   "language": "python",
   "name": "python3"
  },
  "language_info": {
   "codemirror_mode": {
    "name": "ipython",
    "version": 3
   },
   "file_extension": ".py",
   "mimetype": "text/x-python",
   "name": "python",
   "nbconvert_exporter": "python",
   "pygments_lexer": "ipython3",
   "version": "3.10.12"
  },
  "orig_nbformat": 4
 },
 "nbformat": 4,
 "nbformat_minor": 2
}
