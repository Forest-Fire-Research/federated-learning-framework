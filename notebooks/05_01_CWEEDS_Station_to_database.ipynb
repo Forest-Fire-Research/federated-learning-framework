{
 "cells": [
  {
   "cell_type": "code",
   "execution_count": 11,
   "metadata": {},
   "outputs": [
    {
     "name": "stdout",
     "output_type": "stream",
     "text": [
      "/bin/bash: /media/mutakabbir/HDD_2TB_02/Forest_Fire/.venv/bin/pip: /media/mutakabbir/HDD_2TB_01/Forest_Fire/.venv/bin/python: bad interpreter: No such file or directory\n"
     ]
    }
   ],
   "source": [
    "! pip install geopandas pandas sqlalchemy psycopg2-binary openpyxl geoalchemy2 python-dotenv tqdm"
   ]
  },
  {
   "cell_type": "code",
   "execution_count": 2,
   "metadata": {},
   "outputs": [],
   "source": [
    "import pandas as pd\n",
    "import geopandas as gpd\n",
    "from datetime import datetime\n",
    "from sqlalchemy import create_engine, TIMESTAMP\n",
    "\n",
    "import os\n",
    "import warnings\n",
    "from tqdm import tqdm\n",
    "from dotenv import load_dotenv"
   ]
  },
  {
   "cell_type": "code",
   "execution_count": 3,
   "metadata": {},
   "outputs": [],
   "source": [
    "warnings.filterwarnings(\"ignore\")"
   ]
  },
  {
   "cell_type": "code",
   "execution_count": 4,
   "metadata": {},
   "outputs": [],
   "source": [
    "climate_ics_date_pattern = '(?P<year>\\d{4})(?P<month>\\d{2})(?P<day>\\d{2})(?P<hour>\\d{2})'"
   ]
  },
  {
   "cell_type": "code",
   "execution_count": 5,
   "metadata": {},
   "outputs": [],
   "source": [
    "climate_dtypes = {\n",
    "    0: 'object',\n",
    "    1: 'object',\n",
    "    2: 'object',\n",
    "    3: 'int64',\n",
    "    4: 'int64',\n",
    "    5: 'object',\n",
    "    6: 'int64',\n",
    "    7: 'object',\n",
    "    8: 'int64',\n",
    "    9: 'object',\n",
    "    10: 'int64',\n",
    "    11: 'object',\n",
    "    12: 'int64',\n",
    "    13: 'object',\n",
    "    14: 'int64',\n",
    "    15: 'object',\n",
    "    16: 'int64',\n",
    "    17: 'object',\n",
    "    18: 'int64',\n",
    "    19: 'object',\n",
    "    20: 'int64',\n",
    "    21: 'object',\n",
    "    22: 'int64',\n",
    "    23: 'object',\n",
    "    24: 'int64',\n",
    "    25: 'object',\n",
    "    26: 'int64',\n",
    "    27: 'object',\n",
    "    28: 'int64',\n",
    "    29: 'object',\n",
    "    30: 'int64',\n",
    "    31: 'object',\n",
    "    32: 'int64',\n",
    "    33: 'object',\n",
    "    34: 'int64',\n",
    "    35: 'object',\n",
    "    36: 'int64',\n",
    "    37: 'object',\n",
    "    38: 'int64',\n",
    "    39: 'object',\n",
    "    40: 'int64',\n",
    "    41: 'object',\n",
    "    42: 'int64',\n",
    "    43: 'object',\n",
    "}\n",
    "\n",
    "sql_dtypes = {\n",
    "    \"Year Month Day Hour (YYYYMMDDHH)\": TIMESTAMP\n",
    "}"
   ]
  },
  {
   "cell_type": "code",
   "execution_count": 6,
   "metadata": {},
   "outputs": [],
   "source": [
    "CWEEDS_STATION_DATA_DIR = \"../../data/ics/CWEEDS\"\n",
    "PATH_TO_DOT_ENV = \"../.env\"\n",
    "\n",
    "DATABASE_TYPE = \"postgresql\"\n",
    "DATABASE_HOST = \"localhost\"\n",
    "\n",
    "CWEEDS_STATION_TABLE_NAME = \"W_s\""
   ]
  },
  {
   "cell_type": "code",
   "execution_count": 7,
   "metadata": {},
   "outputs": [],
   "source": [
    "load_dotenv(PATH_TO_DOT_ENV)\n",
    "\n",
    "DATABASE_NAME = os.environ.get(\"DATABASE_NAME\")\n",
    "POSTGRES_USER = os.environ.get(\"POSTGRES_USER\")\n",
    "POSTGRES_PASSWORD = os.environ.get(\"POSTGRES_PASSWORD\")\n",
    "POSTGRES_HOST_PORT = os.environ.get(\"POSTGRES_HOST_PORT\")\n",
    "POSTGRES_CONTAINER_PORT = os.environ.get(\"POSTGRES_CONTAINER_PORT\")"
   ]
  },
  {
   "cell_type": "code",
   "execution_count": 8,
   "metadata": {},
   "outputs": [],
   "source": [
    "engine = create_engine(f\"{DATABASE_TYPE}://{POSTGRES_USER}:{POSTGRES_PASSWORD}@{DATABASE_HOST}:{POSTGRES_HOST_PORT}/{DATABASE_NAME}\")"
   ]
  },
  {
   "cell_type": "code",
   "execution_count": 9,
   "metadata": {},
   "outputs": [
    {
     "name": "stderr",
     "output_type": "stream",
     "text": [
      "CWEEDS_2020_NS: 100%|██████████| 29/29 [06:47<00:00, 14.04s/it, CAN_NS_HART-ISLAND-(AUT)_8202318_CWEEDS2011_2003-2017.csv]       \n",
      "CWEEDS_2020_NB: 100%|██████████| 13/13 [03:22<00:00, 15.61s/it, CAN_NB_CHARLO-AUTO_8100885_CWEEDS2011_2004-2017.csv]       \n",
      "CWEEDS_2020_ON: 100%|██████████| 61/61 [16:27<00:00, 16.18s/it, CAN_ON_KEMPTVILLE-CS_6104027_CWEEDS2011_2002-2017.csv]           \n",
      "CWEEDS_2020_NT_Rev_20210324: 100%|██████████| 31/31 [05:46<00:00, 11.18s/it, CAN_NT_FORT-LIARD_2201579_CWEEDS2011_2005-2017.csv]           \n",
      "CWEEDS_2020_MB: 100%|██████████| 39/39 [10:22<00:00, 15.97s/it, CAN_MB_MELITA_501A7AR_CWEEDS2011_1998-2017.csv]              \n",
      "CWEEDS_2020_SK: 100%|██████████| 44/44 [11:21<00:00, 15.48s/it, CAN_SK_KINDERSLEY-A_4043901_CWEEDS2011_1998-2017.csv]         \n",
      "CWEEDS_2020_QC: 100%|██████████| 81/81 [21:38<00:00, 16.03s/it, CAN_QC_ROBERVAL-A_7066686_CWEEDS2011_1998-2017.csv]              \n",
      "CWEEDS_2020_YT_Rev_20210324: 100%|██████████| 14/14 [02:24<00:00, 10.34s/it, CAN_YT_OLD-CROW-RCS_2100805_CWEEDS2011_2005-2017.csv]    \n",
      "CWEEDS_2020_PE: 100%|██████████| 7/7 [01:39<00:00, 14.24s/it, CAN_PE_CHARLOTTETOWN-A_8300301_CWEEDS2011_1998-2017.csv]  \n",
      "CWEEDS_2020_BC: 100%|██████████| 78/78 [20:41<00:00, 15.91s/it, CAN_BC_LILLOOET_1114619_CWEEDS2011_1998-2017.csv]                   \n",
      "CWEEDS_2020_NU: 100%|██████████| 37/37 [07:01<00:00, 11.38s/it, CAN_NU_CAPE-DYER_2400650_CWEEDS2011_2005-2017.csv]           \n",
      "CWEEDS_2020_AB: 100%|██████████| 102/102 [25:59<00:00, 15.29s/it, CAN_AB_STETTLER-AGDM_3016124_CWEEDS2011_2004-2017.csv]            \n",
      "CWEEDS_2020_NL: 100%|██████████| 28/28 [07:21<00:00, 15.78s/it, CAN_NL_WRECKHOUSE_8404343_CWEEDS2011_1998-2017.csv]           \n"
     ]
    }
   ],
   "source": [
    "provience_list = os.listdir(CWEEDS_STATION_DATA_DIR)\n",
    "for provience_dir in provience_list:\n",
    "    province_dir_path = f\"{CWEEDS_STATION_DATA_DIR}/{provience_dir}\"\n",
    "    provience_station_list = os.listdir(province_dir_path)\n",
    "    provience_progress_bar = tqdm(\n",
    "        provience_station_list,\n",
    "        desc = provience_dir,\n",
    "    )\n",
    "    for file_name in provience_progress_bar:\n",
    "        file_path = f\"{province_dir_path}{os.sep}{file_name}\"\n",
    "        # read data to DF\n",
    "        climate_df = pd.read_csv(file_path, sep=\",\", skiprows=[0,1,2], header=None, parse_dates=[2], dtype=climate_dtypes)\n",
    "        climate_header_df = pd.read_csv(file_path, nrows=0, header=2)\n",
    "        # merging the cloumns \n",
    "        climate_df.drop([44], axis=1, inplace=True)\n",
    "        climate_df.rename({index:name for index, name in enumerate(climate_header_df.columns)}, axis=1, inplace=True)\n",
    "        # parse as datatime\n",
    "        climate_df[\"Year Month Day Hour (YYYYMMDDHH)\"] = pd.to_datetime(climate_df[\"Year Month Day Hour (YYYYMMDDHH)\"].str.extract(climate_ics_date_pattern, expand=True))\n",
    "        try:\n",
    "            climate_df.to_sql(name=CWEEDS_STATION_TABLE_NAME, con=engine, if_exists='append', index=False, dtype=sql_dtypes)  \n",
    "        except Exception as e:\n",
    "            print(f\"{file_name}:   {e}\")\n",
    "\n",
    "        # deleted all data \n",
    "        del climate_header_df\n",
    "        del climate_df\n",
    "\n",
    "        provience_progress_bar.set_postfix_str(file_name)"
   ]
  },
  {
   "cell_type": "code",
   "execution_count": 10,
   "metadata": {},
   "outputs": [],
   "source": [
    "with engine.connect() as con:\n",
    "    con.execute(f'ALTER TABLE \"{CWEEDS_STATION_TABLE_NAME}\" ADD PRIMARY KEY (\"ECCC station identifier\", \"Year Month Day Hour (YYYYMMDDHH)\");')"
   ]
  },
  {
   "cell_type": "code",
   "execution_count": null,
   "metadata": {},
   "outputs": [],
   "source": []
  }
 ],
 "metadata": {
  "kernelspec": {
   "display_name": ".venv",
   "language": "python",
   "name": "python3"
  },
  "language_info": {
   "codemirror_mode": {
    "name": "ipython",
    "version": 3
   },
   "file_extension": ".py",
   "mimetype": "text/x-python",
   "name": "python",
   "nbconvert_exporter": "python",
   "pygments_lexer": "ipython3",
   "version": "3.10.12"
  },
  "orig_nbformat": 4
 },
 "nbformat": 4,
 "nbformat_minor": 2
}
